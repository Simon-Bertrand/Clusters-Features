{
 "cells": [
  {
   "cell_type": "code",
   "execution_count": 1,
   "id": "0bd59c90",
   "metadata": {
    "ExecuteTime": {
     "end_time": "2021-08-12T15:21:17.234919Z",
     "start_time": "2021-08-12T15:21:16.006253Z"
    }
   },
   "outputs": [
    {
     "data": {
      "text/html": [
       "<div>\n",
       "<style scoped>\n",
       "    .dataframe tbody tr th:only-of-type {\n",
       "        vertical-align: middle;\n",
       "    }\n",
       "\n",
       "    .dataframe tbody tr th {\n",
       "        vertical-align: top;\n",
       "    }\n",
       "\n",
       "    .dataframe thead th {\n",
       "        text-align: right;\n",
       "    }\n",
       "</style>\n",
       "<table border=\"1\" class=\"dataframe\">\n",
       "  <thead>\n",
       "    <tr style=\"text-align: right;\">\n",
       "      <th></th>\n",
       "      <th>0</th>\n",
       "      <th>1</th>\n",
       "      <th>2</th>\n",
       "      <th>3</th>\n",
       "      <th>4</th>\n",
       "      <th>5</th>\n",
       "      <th>6</th>\n",
       "      <th>7</th>\n",
       "      <th>8</th>\n",
       "      <th>9</th>\n",
       "      <th>...</th>\n",
       "      <th>55</th>\n",
       "      <th>56</th>\n",
       "      <th>57</th>\n",
       "      <th>58</th>\n",
       "      <th>59</th>\n",
       "      <th>60</th>\n",
       "      <th>61</th>\n",
       "      <th>62</th>\n",
       "      <th>63</th>\n",
       "      <th>target</th>\n",
       "    </tr>\n",
       "  </thead>\n",
       "  <tbody>\n",
       "    <tr>\n",
       "      <th>0</th>\n",
       "      <td>0.0</td>\n",
       "      <td>0.0</td>\n",
       "      <td>5.0</td>\n",
       "      <td>13.0</td>\n",
       "      <td>9.0</td>\n",
       "      <td>1.0</td>\n",
       "      <td>0.0</td>\n",
       "      <td>0.0</td>\n",
       "      <td>0.0</td>\n",
       "      <td>0.0</td>\n",
       "      <td>...</td>\n",
       "      <td>0.0</td>\n",
       "      <td>0.0</td>\n",
       "      <td>0.0</td>\n",
       "      <td>6.0</td>\n",
       "      <td>13.0</td>\n",
       "      <td>10.0</td>\n",
       "      <td>0.0</td>\n",
       "      <td>0.0</td>\n",
       "      <td>0.0</td>\n",
       "      <td>0</td>\n",
       "    </tr>\n",
       "    <tr>\n",
       "      <th>1</th>\n",
       "      <td>0.0</td>\n",
       "      <td>0.0</td>\n",
       "      <td>0.0</td>\n",
       "      <td>12.0</td>\n",
       "      <td>13.0</td>\n",
       "      <td>5.0</td>\n",
       "      <td>0.0</td>\n",
       "      <td>0.0</td>\n",
       "      <td>0.0</td>\n",
       "      <td>0.0</td>\n",
       "      <td>...</td>\n",
       "      <td>0.0</td>\n",
       "      <td>0.0</td>\n",
       "      <td>0.0</td>\n",
       "      <td>0.0</td>\n",
       "      <td>11.0</td>\n",
       "      <td>16.0</td>\n",
       "      <td>10.0</td>\n",
       "      <td>0.0</td>\n",
       "      <td>0.0</td>\n",
       "      <td>1</td>\n",
       "    </tr>\n",
       "    <tr>\n",
       "      <th>2</th>\n",
       "      <td>0.0</td>\n",
       "      <td>0.0</td>\n",
       "      <td>0.0</td>\n",
       "      <td>4.0</td>\n",
       "      <td>15.0</td>\n",
       "      <td>12.0</td>\n",
       "      <td>0.0</td>\n",
       "      <td>0.0</td>\n",
       "      <td>0.0</td>\n",
       "      <td>0.0</td>\n",
       "      <td>...</td>\n",
       "      <td>0.0</td>\n",
       "      <td>0.0</td>\n",
       "      <td>0.0</td>\n",
       "      <td>0.0</td>\n",
       "      <td>3.0</td>\n",
       "      <td>11.0</td>\n",
       "      <td>16.0</td>\n",
       "      <td>9.0</td>\n",
       "      <td>0.0</td>\n",
       "      <td>2</td>\n",
       "    </tr>\n",
       "    <tr>\n",
       "      <th>3</th>\n",
       "      <td>0.0</td>\n",
       "      <td>0.0</td>\n",
       "      <td>7.0</td>\n",
       "      <td>15.0</td>\n",
       "      <td>13.0</td>\n",
       "      <td>1.0</td>\n",
       "      <td>0.0</td>\n",
       "      <td>0.0</td>\n",
       "      <td>0.0</td>\n",
       "      <td>8.0</td>\n",
       "      <td>...</td>\n",
       "      <td>0.0</td>\n",
       "      <td>0.0</td>\n",
       "      <td>0.0</td>\n",
       "      <td>7.0</td>\n",
       "      <td>13.0</td>\n",
       "      <td>13.0</td>\n",
       "      <td>9.0</td>\n",
       "      <td>0.0</td>\n",
       "      <td>0.0</td>\n",
       "      <td>3</td>\n",
       "    </tr>\n",
       "    <tr>\n",
       "      <th>4</th>\n",
       "      <td>0.0</td>\n",
       "      <td>0.0</td>\n",
       "      <td>0.0</td>\n",
       "      <td>1.0</td>\n",
       "      <td>11.0</td>\n",
       "      <td>0.0</td>\n",
       "      <td>0.0</td>\n",
       "      <td>0.0</td>\n",
       "      <td>0.0</td>\n",
       "      <td>0.0</td>\n",
       "      <td>...</td>\n",
       "      <td>0.0</td>\n",
       "      <td>0.0</td>\n",
       "      <td>0.0</td>\n",
       "      <td>0.0</td>\n",
       "      <td>2.0</td>\n",
       "      <td>16.0</td>\n",
       "      <td>4.0</td>\n",
       "      <td>0.0</td>\n",
       "      <td>0.0</td>\n",
       "      <td>4</td>\n",
       "    </tr>\n",
       "    <tr>\n",
       "      <th>...</th>\n",
       "      <td>...</td>\n",
       "      <td>...</td>\n",
       "      <td>...</td>\n",
       "      <td>...</td>\n",
       "      <td>...</td>\n",
       "      <td>...</td>\n",
       "      <td>...</td>\n",
       "      <td>...</td>\n",
       "      <td>...</td>\n",
       "      <td>...</td>\n",
       "      <td>...</td>\n",
       "      <td>...</td>\n",
       "      <td>...</td>\n",
       "      <td>...</td>\n",
       "      <td>...</td>\n",
       "      <td>...</td>\n",
       "      <td>...</td>\n",
       "      <td>...</td>\n",
       "      <td>...</td>\n",
       "      <td>...</td>\n",
       "      <td>...</td>\n",
       "    </tr>\n",
       "    <tr>\n",
       "      <th>1792</th>\n",
       "      <td>0.0</td>\n",
       "      <td>0.0</td>\n",
       "      <td>4.0</td>\n",
       "      <td>10.0</td>\n",
       "      <td>13.0</td>\n",
       "      <td>6.0</td>\n",
       "      <td>0.0</td>\n",
       "      <td>0.0</td>\n",
       "      <td>0.0</td>\n",
       "      <td>1.0</td>\n",
       "      <td>...</td>\n",
       "      <td>0.0</td>\n",
       "      <td>0.0</td>\n",
       "      <td>0.0</td>\n",
       "      <td>2.0</td>\n",
       "      <td>14.0</td>\n",
       "      <td>15.0</td>\n",
       "      <td>9.0</td>\n",
       "      <td>0.0</td>\n",
       "      <td>0.0</td>\n",
       "      <td>9</td>\n",
       "    </tr>\n",
       "    <tr>\n",
       "      <th>1793</th>\n",
       "      <td>0.0</td>\n",
       "      <td>0.0</td>\n",
       "      <td>6.0</td>\n",
       "      <td>16.0</td>\n",
       "      <td>13.0</td>\n",
       "      <td>11.0</td>\n",
       "      <td>1.0</td>\n",
       "      <td>0.0</td>\n",
       "      <td>0.0</td>\n",
       "      <td>0.0</td>\n",
       "      <td>...</td>\n",
       "      <td>0.0</td>\n",
       "      <td>0.0</td>\n",
       "      <td>0.0</td>\n",
       "      <td>6.0</td>\n",
       "      <td>16.0</td>\n",
       "      <td>14.0</td>\n",
       "      <td>6.0</td>\n",
       "      <td>0.0</td>\n",
       "      <td>0.0</td>\n",
       "      <td>0</td>\n",
       "    </tr>\n",
       "    <tr>\n",
       "      <th>1794</th>\n",
       "      <td>0.0</td>\n",
       "      <td>0.0</td>\n",
       "      <td>1.0</td>\n",
       "      <td>11.0</td>\n",
       "      <td>15.0</td>\n",
       "      <td>1.0</td>\n",
       "      <td>0.0</td>\n",
       "      <td>0.0</td>\n",
       "      <td>0.0</td>\n",
       "      <td>0.0</td>\n",
       "      <td>...</td>\n",
       "      <td>0.0</td>\n",
       "      <td>0.0</td>\n",
       "      <td>0.0</td>\n",
       "      <td>2.0</td>\n",
       "      <td>9.0</td>\n",
       "      <td>13.0</td>\n",
       "      <td>6.0</td>\n",
       "      <td>0.0</td>\n",
       "      <td>0.0</td>\n",
       "      <td>8</td>\n",
       "    </tr>\n",
       "    <tr>\n",
       "      <th>1795</th>\n",
       "      <td>0.0</td>\n",
       "      <td>0.0</td>\n",
       "      <td>2.0</td>\n",
       "      <td>10.0</td>\n",
       "      <td>7.0</td>\n",
       "      <td>0.0</td>\n",
       "      <td>0.0</td>\n",
       "      <td>0.0</td>\n",
       "      <td>0.0</td>\n",
       "      <td>0.0</td>\n",
       "      <td>...</td>\n",
       "      <td>0.0</td>\n",
       "      <td>0.0</td>\n",
       "      <td>0.0</td>\n",
       "      <td>5.0</td>\n",
       "      <td>12.0</td>\n",
       "      <td>16.0</td>\n",
       "      <td>12.0</td>\n",
       "      <td>0.0</td>\n",
       "      <td>0.0</td>\n",
       "      <td>9</td>\n",
       "    </tr>\n",
       "    <tr>\n",
       "      <th>1796</th>\n",
       "      <td>0.0</td>\n",
       "      <td>0.0</td>\n",
       "      <td>10.0</td>\n",
       "      <td>14.0</td>\n",
       "      <td>8.0</td>\n",
       "      <td>1.0</td>\n",
       "      <td>0.0</td>\n",
       "      <td>0.0</td>\n",
       "      <td>0.0</td>\n",
       "      <td>2.0</td>\n",
       "      <td>...</td>\n",
       "      <td>0.0</td>\n",
       "      <td>0.0</td>\n",
       "      <td>1.0</td>\n",
       "      <td>8.0</td>\n",
       "      <td>12.0</td>\n",
       "      <td>14.0</td>\n",
       "      <td>12.0</td>\n",
       "      <td>1.0</td>\n",
       "      <td>0.0</td>\n",
       "      <td>8</td>\n",
       "    </tr>\n",
       "  </tbody>\n",
       "</table>\n",
       "<p>1797 rows × 65 columns</p>\n",
       "</div>"
      ],
      "text/plain": [
       "        0    1     2     3     4     5    6    7    8    9  ...   55   56  \\\n",
       "0     0.0  0.0   5.0  13.0   9.0   1.0  0.0  0.0  0.0  0.0  ...  0.0  0.0   \n",
       "1     0.0  0.0   0.0  12.0  13.0   5.0  0.0  0.0  0.0  0.0  ...  0.0  0.0   \n",
       "2     0.0  0.0   0.0   4.0  15.0  12.0  0.0  0.0  0.0  0.0  ...  0.0  0.0   \n",
       "3     0.0  0.0   7.0  15.0  13.0   1.0  0.0  0.0  0.0  8.0  ...  0.0  0.0   \n",
       "4     0.0  0.0   0.0   1.0  11.0   0.0  0.0  0.0  0.0  0.0  ...  0.0  0.0   \n",
       "...   ...  ...   ...   ...   ...   ...  ...  ...  ...  ...  ...  ...  ...   \n",
       "1792  0.0  0.0   4.0  10.0  13.0   6.0  0.0  0.0  0.0  1.0  ...  0.0  0.0   \n",
       "1793  0.0  0.0   6.0  16.0  13.0  11.0  1.0  0.0  0.0  0.0  ...  0.0  0.0   \n",
       "1794  0.0  0.0   1.0  11.0  15.0   1.0  0.0  0.0  0.0  0.0  ...  0.0  0.0   \n",
       "1795  0.0  0.0   2.0  10.0   7.0   0.0  0.0  0.0  0.0  0.0  ...  0.0  0.0   \n",
       "1796  0.0  0.0  10.0  14.0   8.0   1.0  0.0  0.0  0.0  2.0  ...  0.0  0.0   \n",
       "\n",
       "       57   58    59    60    61   62   63  target  \n",
       "0     0.0  6.0  13.0  10.0   0.0  0.0  0.0       0  \n",
       "1     0.0  0.0  11.0  16.0  10.0  0.0  0.0       1  \n",
       "2     0.0  0.0   3.0  11.0  16.0  9.0  0.0       2  \n",
       "3     0.0  7.0  13.0  13.0   9.0  0.0  0.0       3  \n",
       "4     0.0  0.0   2.0  16.0   4.0  0.0  0.0       4  \n",
       "...   ...  ...   ...   ...   ...  ...  ...     ...  \n",
       "1792  0.0  2.0  14.0  15.0   9.0  0.0  0.0       9  \n",
       "1793  0.0  6.0  16.0  14.0   6.0  0.0  0.0       0  \n",
       "1794  0.0  2.0   9.0  13.0   6.0  0.0  0.0       8  \n",
       "1795  0.0  5.0  12.0  16.0  12.0  0.0  0.0       9  \n",
       "1796  1.0  8.0  12.0  14.0  12.0  1.0  0.0       8  \n",
       "\n",
       "[1797 rows x 65 columns]"
      ]
     },
     "execution_count": 1,
     "metadata": {},
     "output_type": "execute_result"
    }
   ],
   "source": [
    "from ClustersFeatures import *\n",
    "from sklearn.datasets import load_digits\n",
    "import pandas as pd\n",
    "digits = load_digits()\n",
    "pd_df=pd.DataFrame(digits.data)\n",
    "pd_df['target'] = digits.target\n",
    "pd_df\n"
   ]
  },
  {
   "cell_type": "code",
   "execution_count": 2,
   "id": "0fe9bb7a",
   "metadata": {
    "ExecuteTime": {
     "end_time": "2021-08-12T15:21:19.316868Z",
     "start_time": "2021-08-12T15:21:17.236920Z"
    }
   },
   "outputs": [],
   "source": [
    "CC=ClustersCharacteristics(pd_df, label_target=\"target\")"
   ]
  },
  {
   "cell_type": "code",
   "execution_count": 3,
   "id": "c852590b",
   "metadata": {
    "ExecuteTime": {
     "end_time": "2021-08-12T15:21:19.858843Z",
     "start_time": "2021-08-12T15:21:19.318843Z"
    }
   },
   "outputs": [
    {
     "data": {
      "text/html": [
       "<div>\n",
       "<style scoped>\n",
       "    .dataframe tbody tr th:only-of-type {\n",
       "        vertical-align: middle;\n",
       "    }\n",
       "\n",
       "    .dataframe tbody tr th {\n",
       "        vertical-align: top;\n",
       "    }\n",
       "\n",
       "    .dataframe thead th {\n",
       "        text-align: right;\n",
       "    }\n",
       "</style>\n",
       "<table border=\"1\" class=\"dataframe\">\n",
       "  <thead>\n",
       "    <tr style=\"text-align: right;\">\n",
       "      <th></th>\n",
       "      <th>Cluster 0 Density</th>\n",
       "      <th>Cluster 1 Density</th>\n",
       "      <th>Cluster 2 Density</th>\n",
       "      <th>Cluster 3 Density</th>\n",
       "      <th>Cluster 4 Density</th>\n",
       "      <th>Cluster 5 Density</th>\n",
       "      <th>Cluster 6 Density</th>\n",
       "      <th>Cluster 7 Density</th>\n",
       "      <th>Cluster 8 Density</th>\n",
       "      <th>Cluster 9 Density</th>\n",
       "      <th>target</th>\n",
       "    </tr>\n",
       "  </thead>\n",
       "  <tbody>\n",
       "    <tr>\n",
       "      <th>0</th>\n",
       "      <td>1.126090e+00</td>\n",
       "      <td>5.225294e-19</td>\n",
       "      <td>7.108846e-16</td>\n",
       "      <td>1.679566e-11</td>\n",
       "      <td>3.063001e-13</td>\n",
       "      <td>9.012373e-11</td>\n",
       "      <td>6.072682e-12</td>\n",
       "      <td>1.131527e-13</td>\n",
       "      <td>4.011080e-12</td>\n",
       "      <td>3.083550e-08</td>\n",
       "      <td>0</td>\n",
       "    </tr>\n",
       "    <tr>\n",
       "      <th>1</th>\n",
       "      <td>2.651382e-14</td>\n",
       "      <td>1.015242e+00</td>\n",
       "      <td>1.174981e-09</td>\n",
       "      <td>1.087913e-10</td>\n",
       "      <td>8.215596e-10</td>\n",
       "      <td>1.962660e-09</td>\n",
       "      <td>8.770912e-09</td>\n",
       "      <td>2.016435e-11</td>\n",
       "      <td>3.494772e-07</td>\n",
       "      <td>5.302849e-13</td>\n",
       "      <td>1</td>\n",
       "    </tr>\n",
       "    <tr>\n",
       "      <th>2</th>\n",
       "      <td>1.106997e-15</td>\n",
       "      <td>7.836096e-07</td>\n",
       "      <td>1.001890e+00</td>\n",
       "      <td>5.876902e-13</td>\n",
       "      <td>2.635808e-12</td>\n",
       "      <td>2.969332e-18</td>\n",
       "      <td>2.304801e-12</td>\n",
       "      <td>4.131984e-15</td>\n",
       "      <td>3.098700e-07</td>\n",
       "      <td>1.513908e-16</td>\n",
       "      <td>2</td>\n",
       "    </tr>\n",
       "    <tr>\n",
       "      <th>3</th>\n",
       "      <td>4.007318e-14</td>\n",
       "      <td>2.906535e-12</td>\n",
       "      <td>2.111497e-07</td>\n",
       "      <td>1.037206e+00</td>\n",
       "      <td>7.810365e-18</td>\n",
       "      <td>9.919380e-09</td>\n",
       "      <td>3.432680e-12</td>\n",
       "      <td>1.624269e-13</td>\n",
       "      <td>4.842878e-06</td>\n",
       "      <td>2.950399e-07</td>\n",
       "      <td>3</td>\n",
       "    </tr>\n",
       "    <tr>\n",
       "      <th>4</th>\n",
       "      <td>1.415192e-11</td>\n",
       "      <td>2.614401e-11</td>\n",
       "      <td>4.767651e-17</td>\n",
       "      <td>5.787390e-17</td>\n",
       "      <td>1.000725e+00</td>\n",
       "      <td>4.158479e-14</td>\n",
       "      <td>1.706589e-09</td>\n",
       "      <td>1.733653e-15</td>\n",
       "      <td>1.493375e-14</td>\n",
       "      <td>9.593128e-15</td>\n",
       "      <td>4</td>\n",
       "    </tr>\n",
       "    <tr>\n",
       "      <th>...</th>\n",
       "      <td>...</td>\n",
       "      <td>...</td>\n",
       "      <td>...</td>\n",
       "      <td>...</td>\n",
       "      <td>...</td>\n",
       "      <td>...</td>\n",
       "      <td>...</td>\n",
       "      <td>...</td>\n",
       "      <td>...</td>\n",
       "      <td>...</td>\n",
       "      <td>...</td>\n",
       "    </tr>\n",
       "    <tr>\n",
       "      <th>1792</th>\n",
       "      <td>1.268262e-07</td>\n",
       "      <td>8.386806e-12</td>\n",
       "      <td>9.582030e-12</td>\n",
       "      <td>2.536003e-06</td>\n",
       "      <td>5.073043e-16</td>\n",
       "      <td>4.607120e-07</td>\n",
       "      <td>1.273276e-10</td>\n",
       "      <td>2.453589e-11</td>\n",
       "      <td>9.967278e-05</td>\n",
       "      <td>1.005284e+00</td>\n",
       "      <td>9</td>\n",
       "    </tr>\n",
       "    <tr>\n",
       "      <th>1793</th>\n",
       "      <td>1.030958e+00</td>\n",
       "      <td>1.310546e-14</td>\n",
       "      <td>1.955620e-15</td>\n",
       "      <td>1.712175e-13</td>\n",
       "      <td>7.054895e-12</td>\n",
       "      <td>4.285263e-12</td>\n",
       "      <td>5.327353e-10</td>\n",
       "      <td>2.189970e-14</td>\n",
       "      <td>1.644817e-12</td>\n",
       "      <td>2.765873e-11</td>\n",
       "      <td>0</td>\n",
       "    </tr>\n",
       "    <tr>\n",
       "      <th>1794</th>\n",
       "      <td>1.810745e-09</td>\n",
       "      <td>6.429542e-05</td>\n",
       "      <td>9.431305e-11</td>\n",
       "      <td>7.397740e-11</td>\n",
       "      <td>1.666819e-11</td>\n",
       "      <td>1.496766e-08</td>\n",
       "      <td>1.793754e-05</td>\n",
       "      <td>2.121433e-12</td>\n",
       "      <td>1.000704e+00</td>\n",
       "      <td>1.264482e-09</td>\n",
       "      <td>8</td>\n",
       "    </tr>\n",
       "    <tr>\n",
       "      <th>1795</th>\n",
       "      <td>1.006829e-07</td>\n",
       "      <td>5.543555e-11</td>\n",
       "      <td>9.674648e-14</td>\n",
       "      <td>9.285610e-10</td>\n",
       "      <td>1.966593e-12</td>\n",
       "      <td>4.305474e-09</td>\n",
       "      <td>1.288105e-10</td>\n",
       "      <td>2.463267e-12</td>\n",
       "      <td>1.830057e-05</td>\n",
       "      <td>1.002097e+00</td>\n",
       "      <td>9</td>\n",
       "    </tr>\n",
       "    <tr>\n",
       "      <th>1796</th>\n",
       "      <td>1.508412e-14</td>\n",
       "      <td>9.286762e-12</td>\n",
       "      <td>1.400108e-11</td>\n",
       "      <td>2.172969e-08</td>\n",
       "      <td>9.617699e-17</td>\n",
       "      <td>8.834998e-13</td>\n",
       "      <td>1.782382e-11</td>\n",
       "      <td>3.006373e-19</td>\n",
       "      <td>1.000080e+00</td>\n",
       "      <td>2.591038e-10</td>\n",
       "      <td>8</td>\n",
       "    </tr>\n",
       "  </tbody>\n",
       "</table>\n",
       "<p>1797 rows × 11 columns</p>\n",
       "</div>"
      ],
      "text/plain": [
       "      Cluster 0 Density  Cluster 1 Density  Cluster 2 Density  \\\n",
       "0          1.126090e+00       5.225294e-19       7.108846e-16   \n",
       "1          2.651382e-14       1.015242e+00       1.174981e-09   \n",
       "2          1.106997e-15       7.836096e-07       1.001890e+00   \n",
       "3          4.007318e-14       2.906535e-12       2.111497e-07   \n",
       "4          1.415192e-11       2.614401e-11       4.767651e-17   \n",
       "...                 ...                ...                ...   \n",
       "1792       1.268262e-07       8.386806e-12       9.582030e-12   \n",
       "1793       1.030958e+00       1.310546e-14       1.955620e-15   \n",
       "1794       1.810745e-09       6.429542e-05       9.431305e-11   \n",
       "1795       1.006829e-07       5.543555e-11       9.674648e-14   \n",
       "1796       1.508412e-14       9.286762e-12       1.400108e-11   \n",
       "\n",
       "      Cluster 3 Density  Cluster 4 Density  Cluster 5 Density  \\\n",
       "0          1.679566e-11       3.063001e-13       9.012373e-11   \n",
       "1          1.087913e-10       8.215596e-10       1.962660e-09   \n",
       "2          5.876902e-13       2.635808e-12       2.969332e-18   \n",
       "3          1.037206e+00       7.810365e-18       9.919380e-09   \n",
       "4          5.787390e-17       1.000725e+00       4.158479e-14   \n",
       "...                 ...                ...                ...   \n",
       "1792       2.536003e-06       5.073043e-16       4.607120e-07   \n",
       "1793       1.712175e-13       7.054895e-12       4.285263e-12   \n",
       "1794       7.397740e-11       1.666819e-11       1.496766e-08   \n",
       "1795       9.285610e-10       1.966593e-12       4.305474e-09   \n",
       "1796       2.172969e-08       9.617699e-17       8.834998e-13   \n",
       "\n",
       "      Cluster 6 Density  Cluster 7 Density  Cluster 8 Density  \\\n",
       "0          6.072682e-12       1.131527e-13       4.011080e-12   \n",
       "1          8.770912e-09       2.016435e-11       3.494772e-07   \n",
       "2          2.304801e-12       4.131984e-15       3.098700e-07   \n",
       "3          3.432680e-12       1.624269e-13       4.842878e-06   \n",
       "4          1.706589e-09       1.733653e-15       1.493375e-14   \n",
       "...                 ...                ...                ...   \n",
       "1792       1.273276e-10       2.453589e-11       9.967278e-05   \n",
       "1793       5.327353e-10       2.189970e-14       1.644817e-12   \n",
       "1794       1.793754e-05       2.121433e-12       1.000704e+00   \n",
       "1795       1.288105e-10       2.463267e-12       1.830057e-05   \n",
       "1796       1.782382e-11       3.006373e-19       1.000080e+00   \n",
       "\n",
       "      Cluster 9 Density  target  \n",
       "0          3.083550e-08       0  \n",
       "1          5.302849e-13       1  \n",
       "2          1.513908e-16       2  \n",
       "3          2.950399e-07       3  \n",
       "4          9.593128e-15       4  \n",
       "...                 ...     ...  \n",
       "1792       1.005284e+00       9  \n",
       "1793       2.765873e-11       0  \n",
       "1794       1.264482e-09       8  \n",
       "1795       1.002097e+00       9  \n",
       "1796       2.591038e-10       8  \n",
       "\n",
       "[1797 rows x 11 columns]"
      ]
     },
     "execution_count": 3,
     "metadata": {},
     "output_type": "execute_result"
    }
   ],
   "source": [
    "CC.density_for_each_observation(\"intra\")"
   ]
  },
  {
   "cell_type": "code",
   "execution_count": 4,
   "id": "c21498d9",
   "metadata": {
    "ExecuteTime": {
     "end_time": "2021-08-12T15:21:20.542593Z",
     "start_time": "2021-08-12T15:21:19.859843Z"
    }
   },
   "outputs": [
    {
     "data": {
      "text/html": [
       "<div>\n",
       "<style scoped>\n",
       "    .dataframe tbody tr th:only-of-type {\n",
       "        vertical-align: middle;\n",
       "    }\n",
       "\n",
       "    .dataframe tbody tr th {\n",
       "        vertical-align: top;\n",
       "    }\n",
       "\n",
       "    .dataframe thead th {\n",
       "        text-align: right;\n",
       "    }\n",
       "</style>\n",
       "<table border=\"1\" class=\"dataframe\">\n",
       "  <thead>\n",
       "    <tr style=\"text-align: right;\">\n",
       "      <th></th>\n",
       "      <th>0</th>\n",
       "      <th>1</th>\n",
       "      <th>2</th>\n",
       "      <th>3</th>\n",
       "      <th>4</th>\n",
       "      <th>5</th>\n",
       "      <th>6</th>\n",
       "      <th>7</th>\n",
       "      <th>8</th>\n",
       "      <th>9</th>\n",
       "    </tr>\n",
       "  </thead>\n",
       "  <tbody>\n",
       "    <tr>\n",
       "      <th>0</th>\n",
       "      <td>188.572393</td>\n",
       "      <td>223.949750</td>\n",
       "      <td>1.785808e+02</td>\n",
       "      <td>1.850643e+02</td>\n",
       "      <td>1.859746e+02</td>\n",
       "      <td>182.427204</td>\n",
       "      <td>193.108697</td>\n",
       "      <td>182.975600</td>\n",
       "      <td>175.293551</td>\n",
       "      <td>181.434649</td>\n",
       "    </tr>\n",
       "    <tr>\n",
       "      <th>1</th>\n",
       "      <td>223.949750</td>\n",
       "      <td>0.000341</td>\n",
       "      <td>5.068773e-05</td>\n",
       "      <td>5.804647e-05</td>\n",
       "      <td>2.033090e-05</td>\n",
       "      <td>0.002997</td>\n",
       "      <td>0.000002</td>\n",
       "      <td>0.023711</td>\n",
       "      <td>0.000733</td>\n",
       "      <td>0.000000</td>\n",
       "    </tr>\n",
       "    <tr>\n",
       "      <th>2</th>\n",
       "      <td>178.580847</td>\n",
       "      <td>0.000051</td>\n",
       "      <td>3.906014e-10</td>\n",
       "      <td>3.394471e-05</td>\n",
       "      <td>6.032305e-07</td>\n",
       "      <td>0.000005</td>\n",
       "      <td>0.000189</td>\n",
       "      <td>0.000017</td>\n",
       "      <td>0.000000</td>\n",
       "      <td>0.000000</td>\n",
       "    </tr>\n",
       "    <tr>\n",
       "      <th>3</th>\n",
       "      <td>185.064323</td>\n",
       "      <td>0.000058</td>\n",
       "      <td>3.394471e-05</td>\n",
       "      <td>1.040586e-07</td>\n",
       "      <td>3.180084e-05</td>\n",
       "      <td>0.001071</td>\n",
       "      <td>0.004920</td>\n",
       "      <td>0.000000</td>\n",
       "      <td>0.000000</td>\n",
       "      <td>0.000000</td>\n",
       "    </tr>\n",
       "    <tr>\n",
       "      <th>4</th>\n",
       "      <td>185.974567</td>\n",
       "      <td>0.000020</td>\n",
       "      <td>6.032305e-07</td>\n",
       "      <td>3.180084e-05</td>\n",
       "      <td>6.500916e-08</td>\n",
       "      <td>0.001360</td>\n",
       "      <td>0.000000</td>\n",
       "      <td>0.000000</td>\n",
       "      <td>0.000000</td>\n",
       "      <td>0.000000</td>\n",
       "    </tr>\n",
       "    <tr>\n",
       "      <th>5</th>\n",
       "      <td>182.427204</td>\n",
       "      <td>0.002997</td>\n",
       "      <td>5.288049e-06</td>\n",
       "      <td>1.070628e-03</td>\n",
       "      <td>1.360334e-03</td>\n",
       "      <td>0.000000</td>\n",
       "      <td>0.000000</td>\n",
       "      <td>0.000000</td>\n",
       "      <td>0.000000</td>\n",
       "      <td>0.000000</td>\n",
       "    </tr>\n",
       "    <tr>\n",
       "      <th>6</th>\n",
       "      <td>193.108697</td>\n",
       "      <td>0.000002</td>\n",
       "      <td>1.890169e-04</td>\n",
       "      <td>4.920252e-03</td>\n",
       "      <td>0.000000e+00</td>\n",
       "      <td>0.000000</td>\n",
       "      <td>0.000000</td>\n",
       "      <td>0.000000</td>\n",
       "      <td>0.000000</td>\n",
       "      <td>0.000000</td>\n",
       "    </tr>\n",
       "    <tr>\n",
       "      <th>7</th>\n",
       "      <td>182.975600</td>\n",
       "      <td>0.023711</td>\n",
       "      <td>1.672119e-05</td>\n",
       "      <td>0.000000e+00</td>\n",
       "      <td>0.000000e+00</td>\n",
       "      <td>0.000000</td>\n",
       "      <td>0.000000</td>\n",
       "      <td>0.000000</td>\n",
       "      <td>0.000000</td>\n",
       "      <td>0.000000</td>\n",
       "    </tr>\n",
       "    <tr>\n",
       "      <th>8</th>\n",
       "      <td>175.293551</td>\n",
       "      <td>0.000733</td>\n",
       "      <td>0.000000e+00</td>\n",
       "      <td>0.000000e+00</td>\n",
       "      <td>0.000000e+00</td>\n",
       "      <td>0.000000</td>\n",
       "      <td>0.000000</td>\n",
       "      <td>0.000000</td>\n",
       "      <td>0.000000</td>\n",
       "      <td>0.000000</td>\n",
       "    </tr>\n",
       "    <tr>\n",
       "      <th>9</th>\n",
       "      <td>181.434649</td>\n",
       "      <td>0.000000</td>\n",
       "      <td>0.000000e+00</td>\n",
       "      <td>0.000000e+00</td>\n",
       "      <td>0.000000e+00</td>\n",
       "      <td>0.000000</td>\n",
       "      <td>0.000000</td>\n",
       "      <td>0.000000</td>\n",
       "      <td>0.000000</td>\n",
       "      <td>0.000000</td>\n",
       "    </tr>\n",
       "  </tbody>\n",
       "</table>\n",
       "</div>"
      ],
      "text/plain": [
       "            0           1             2             3             4  \\\n",
       "0  188.572393  223.949750  1.785808e+02  1.850643e+02  1.859746e+02   \n",
       "1  223.949750    0.000341  5.068773e-05  5.804647e-05  2.033090e-05   \n",
       "2  178.580847    0.000051  3.906014e-10  3.394471e-05  6.032305e-07   \n",
       "3  185.064323    0.000058  3.394471e-05  1.040586e-07  3.180084e-05   \n",
       "4  185.974567    0.000020  6.032305e-07  3.180084e-05  6.500916e-08   \n",
       "5  182.427204    0.002997  5.288049e-06  1.070628e-03  1.360334e-03   \n",
       "6  193.108697    0.000002  1.890169e-04  4.920252e-03  0.000000e+00   \n",
       "7  182.975600    0.023711  1.672119e-05  0.000000e+00  0.000000e+00   \n",
       "8  175.293551    0.000733  0.000000e+00  0.000000e+00  0.000000e+00   \n",
       "9  181.434649    0.000000  0.000000e+00  0.000000e+00  0.000000e+00   \n",
       "\n",
       "            5           6           7           8           9  \n",
       "0  182.427204  193.108697  182.975600  175.293551  181.434649  \n",
       "1    0.002997    0.000002    0.023711    0.000733    0.000000  \n",
       "2    0.000005    0.000189    0.000017    0.000000    0.000000  \n",
       "3    0.001071    0.004920    0.000000    0.000000    0.000000  \n",
       "4    0.001360    0.000000    0.000000    0.000000    0.000000  \n",
       "5    0.000000    0.000000    0.000000    0.000000    0.000000  \n",
       "6    0.000000    0.000000    0.000000    0.000000    0.000000  \n",
       "7    0.000000    0.000000    0.000000    0.000000    0.000000  \n",
       "8    0.000000    0.000000    0.000000    0.000000    0.000000  \n",
       "9    0.000000    0.000000    0.000000    0.000000    0.000000  "
      ]
     },
     "execution_count": 4,
     "metadata": {},
     "output_type": "execute_result"
    }
   ],
   "source": [
    "CC.density_for_each_observation(\"inter\")"
   ]
  },
  {
   "cell_type": "code",
   "execution_count": 5,
   "id": "72773183",
   "metadata": {
    "ExecuteTime": {
     "end_time": "2021-08-12T15:21:20.829635Z",
     "start_time": "2021-08-12T15:21:20.543593Z"
    }
   },
   "outputs": [
    {
     "ename": "NameError",
     "evalue": "name 'qsdqsd' is not defined",
     "output_type": "error",
     "traceback": [
      "\u001b[1;31m---------------------------------------------------------------------------\u001b[0m",
      "\u001b[1;31mNameError\u001b[0m                                 Traceback (most recent call last)",
      "\u001b[1;32m<ipython-input-5-78d54b15b69c>\u001b[0m in \u001b[0;36m<module>\u001b[1;34m\u001b[0m\n\u001b[1;32m----> 1\u001b[1;33m \u001b[0mqsdqsd\u001b[0m\u001b[1;33m\u001b[0m\u001b[1;33m\u001b[0m\u001b[0m\n\u001b[0m",
      "\u001b[1;31mNameError\u001b[0m: name 'qsdqsd' is not defined"
     ]
    }
   ],
   "source": [
    "qsdqsd"
   ]
  },
  {
   "cell_type": "code",
   "execution_count": null,
   "id": "d639029d",
   "metadata": {
    "ExecuteTime": {
     "end_time": "2021-08-12T15:21:20.872632Z",
     "start_time": "2021-08-12T15:21:16.008Z"
    }
   },
   "outputs": [],
   "source": [
    "    def density_for_each_observation(self, method, **args):\n",
    "        try:\n",
    "            clusters=args['clusters']\n",
    "        except KeyError:\n",
    "            clusters=self.labels_clusters\n",
    "\n",
    "        from sklearn.preprocessing import StandardScaler\n",
    "        from scipy import spatial\n",
    "        data = self.data_features\n",
    "        scaler = StandardScaler()\n",
    "        data_scaled = scaler.fit_transform(data)\n",
    "\n",
    "        distance_scaled = pd.DataFrame(spatial.distance_matrix(data_scaled, data_scaled), index=self.data_features.index,\n",
    "                                   columns=self.data_features.index)\n",
    "        if method == \"total\":\n",
    "            Output = pd.DataFrame(index=self.data_features.index)\n",
    "            Output['Total Density']=np.exp(-1/2*((distance_scaled.loc[:,:])**2)).sum(axis=0)\n",
    "            Output['target'] = self.data_target\n",
    "        elif method == \"intra\":\n",
    "            Output = pd.DataFrame(index=self.data_features.index)\n",
    "            for cluster in clusters:\n",
    "                Output['Cluster ' + str(cluster) + ' Density'] = np.exp(-1 / 2 * ((distance_scaled.loc[self.data_clusters[cluster].index, :]) ** 2)).sum(axis=0)\n",
    "            Output['target'] = self.data_target\n",
    "\n",
    "        elif method == \"inter\":\n",
    "            Output=pd.DataFrame(index=['Total cluster density C:' + str(cluster1) for cluster1 in self.labels_clusters], columns=['Relative cluster density C:' + str(cluster2) for cluster2 in self.labels_clusters])\n",
    "            for i,cluster1 in enumerate(clusters):\n",
    "                for cluster2 in clusters[i+1:]:\n",
    "                    Output.loc['Total cluster density C:' + str(cluster1), 'Relative cluster density C:' + str(cluster2)] =\\\n",
    "                        np.exp(-1 / 2 * ((distance_scaled.loc[self.data_clusters[cluster1].index, self.data_clusters[cluster2].index]) ** 2)).sum(axis=0).sum()\n",
    "            Output2=Output.T.copy()\n",
    "            Output2[np.eye(self.num_clusters)>0] = 0\n",
    "            Output = Output + Output2.values\n",
    "        return Output"
   ]
  },
  {
   "cell_type": "code",
   "execution_count": null,
   "id": "8b71ed3d",
   "metadata": {
    "ExecuteTime": {
     "end_time": "2021-08-12T15:21:20.873632Z",
     "start_time": "2021-08-12T15:21:16.009Z"
    }
   },
   "outputs": [],
   "source": [
    "from sklearn.preprocessing import StandardScaler\n",
    "from scipy import spatial\n",
    "data = CC.data_features\n",
    "scaler = StandardScaler()\n",
    "data_scaled = scaler.fit_transform(data)\n",
    "cluster1=1\n",
    "cluster2=2\n",
    "distance_scaled = pd.DataFrame(spatial.distance_matrix(data_scaled, data_scaled), index=CC.data_features.index,\n",
    "                                   columns=CC.data_features.index)\n",
    "\n",
    "np.exp(-1 / 2 * ((distance_scaled.loc[CC.data_clusters[cluster1].index, CC.data_clusters[cluster2].index]) ** 2)).sum(axis=0).sum()"
   ]
  },
  {
   "cell_type": "code",
   "execution_count": null,
   "id": "bcde65bb",
   "metadata": {
    "ExecuteTime": {
     "end_time": "2021-08-12T15:21:20.874633Z",
     "start_time": "2021-08-12T15:21:16.010Z"
    }
   },
   "outputs": [],
   "source": [
    "CC.density_estimation_for_each_observation()"
   ]
  },
  {
   "cell_type": "code",
   "execution_count": null,
   "id": "6b3fb0ff",
   "metadata": {
    "ExecuteTime": {
     "end_time": "2021-08-12T15:21:20.875641Z",
     "start_time": "2021-08-12T15:21:16.011Z"
    }
   },
   "outputs": [],
   "source": [
    "CC.graph_reduction_density_2D(\"PCA\",99,\"contour\")"
   ]
  },
  {
   "cell_type": "code",
   "execution_count": null,
   "id": "03e0b030",
   "metadata": {
    "ExecuteTime": {
     "end_time": "2021-08-12T15:21:20.877633Z",
     "start_time": "2021-08-12T15:21:16.012Z"
    }
   },
   "outputs": [],
   "source": [
    "s=CC.density_projection_2D(\"PCA\",70)"
   ]
  },
  {
   "cell_type": "code",
   "execution_count": null,
   "id": "e4e90424",
   "metadata": {
    "ExecuteTime": {
     "end_time": "2021-08-12T15:21:20.878633Z",
     "start_time": "2021-08-12T15:21:16.013Z"
    }
   },
   "outputs": [],
   "source": [
    "Zgrid=s['Z-Grid']"
   ]
  },
  {
   "cell_type": "code",
   "execution_count": null,
   "id": "203d8308",
   "metadata": {
    "ExecuteTime": {
     "end_time": "2021-08-12T15:21:20.879634Z",
     "start_time": "2021-08-12T15:21:16.014Z"
    }
   },
   "outputs": [],
   "source": [
    "np.percentile(Zgrid.values,70)"
   ]
  },
  {
   "cell_type": "code",
   "execution_count": null,
   "id": "7aae7fae",
   "metadata": {
    "ExecuteTime": {
     "end_time": "2021-08-12T15:21:20.880637Z",
     "start_time": "2021-08-12T15:21:16.015Z"
    }
   },
   "outputs": [],
   "source": [
    "Z=Zgrid.values\n",
    "A=np.zeros(Z.shape)"
   ]
  },
  {
   "cell_type": "code",
   "execution_count": null,
   "id": "f5e92824",
   "metadata": {
    "ExecuteTime": {
     "end_time": "2021-08-12T15:21:20.882644Z",
     "start_time": "2021-08-12T15:21:16.016Z"
    }
   },
   "outputs": [],
   "source": [
    "Z[Z<np.percentile(Z,75)]=0"
   ]
  },
  {
   "cell_type": "code",
   "execution_count": null,
   "id": "92eaf7e6",
   "metadata": {},
   "outputs": [],
   "source": []
  },
  {
   "cell_type": "code",
   "execution_count": null,
   "id": "2c7eb5bd",
   "metadata": {},
   "outputs": [],
   "source": []
  },
  {
   "cell_type": "code",
   "execution_count": null,
   "id": "b6740f70",
   "metadata": {
    "ExecuteTime": {
     "end_time": "2021-08-12T15:21:20.884633Z",
     "start_time": "2021-08-12T15:21:16.018Z"
    }
   },
   "outputs": [],
   "source": [
    "qsd"
   ]
  },
  {
   "cell_type": "code",
   "execution_count": null,
   "id": "37b0791d",
   "metadata": {
    "ExecuteTime": {
     "end_time": "2021-08-12T15:21:20.885633Z",
     "start_time": "2021-08-12T15:21:16.019Z"
    }
   },
   "outputs": [],
   "source": [
    "np.exp(-1/2*((CC.data_features-X)**2).sum(axis=1)).sum()/(2*np.pi)**(CC.data_dimension/2)/(CC.data_dimension)**(1/2)"
   ]
  },
  {
   "cell_type": "code",
   "execution_count": null,
   "id": "537bf042",
   "metadata": {
    "ExecuteTime": {
     "end_time": "2021-08-12T15:21:20.886634Z",
     "start_time": "2021-08-12T15:21:16.020Z"
    }
   },
   "outputs": [],
   "source": [
    "from sklearn.preprocessing import StandardScaler\n",
    "\n"
   ]
  },
  {
   "cell_type": "code",
   "execution_count": null,
   "id": "76ba161d",
   "metadata": {
    "ExecuteTime": {
     "end_time": "2021-08-12T15:21:20.888634Z",
     "start_time": "2021-08-12T15:21:16.021Z"
    }
   },
   "outputs": [],
   "source": [
    "df=CC.utils_PCA(3)\n",
    "df['target']=CC.data_target\n",
    "\n",
    "\n",
    "\n",
    "\n",
    "CC=ClustersCharacteristics(pd_df, label_target=\"target\")\n",
    "\n",
    "Result=pd.DataFrame(index=CC.data_target.index, columns=['Density'])\n",
    "for i,X in data_scaled.T.iteritems():\n",
    "    Result.loc[i] = np.exp((-1/2*((data_scaled-X)**2).sum(axis=1))).sum()-1\n"
   ]
  },
  {
   "cell_type": "code",
   "execution_count": null,
   "id": "4cc3313a",
   "metadata": {
    "ExecuteTime": {
     "end_time": "2021-08-12T15:21:20.889633Z",
     "start_time": "2021-08-12T15:21:16.022Z"
    }
   },
   "outputs": [],
   "source": [
    "dist=pd.DataFrame(spatial.distance_matrix(data_scaled,data_scaled))"
   ]
  },
  {
   "cell_type": "code",
   "execution_count": null,
   "id": "7ee6ba77",
   "metadata": {
    "ExecuteTime": {
     "end_time": "2021-08-12T15:21:20.891634Z",
     "start_time": "2021-08-12T15:21:16.023Z"
    }
   },
   "outputs": [],
   "source": [
    "Save=np.exp(-1/2*((dist.loc[:,:])**2)).sum(axis=0)-1"
   ]
  },
  {
   "cell_type": "code",
   "execution_count": null,
   "id": "eab8f859",
   "metadata": {
    "ExecuteTime": {
     "end_time": "2021-08-12T15:21:20.892633Z",
     "start_time": "2021-08-12T15:21:16.024Z"
    }
   },
   "outputs": [],
   "source": [
    "np.exp(-1/2 * (dist.loc[CC.data_clusters[0].index,:])**2).sum()"
   ]
  },
  {
   "cell_type": "code",
   "execution_count": null,
   "id": "22705757",
   "metadata": {
    "ExecuteTime": {
     "end_time": "2021-08-12T15:21:20.893632Z",
     "start_time": "2021-08-12T15:21:16.025Z"
    }
   },
   "outputs": [],
   "source": [
    "pd.DataFrame(np.exp(-1/2*(dist.loc[CC.data_clusters[1].index,CC.data_clusters[2].index]**2)).sum())"
   ]
  },
  {
   "cell_type": "code",
   "execution_count": null,
   "id": "54f110c3",
   "metadata": {
    "ExecuteTime": {
     "end_time": "2021-08-12T15:21:20.895633Z",
     "start_time": "2021-08-12T15:21:16.025Z"
    }
   },
   "outputs": [],
   "source": [
    "Result['Density']"
   ]
  },
  {
   "cell_type": "code",
   "execution_count": null,
   "id": "58893410",
   "metadata": {
    "ExecuteTime": {
     "end_time": "2021-08-12T15:21:20.897648Z",
     "start_time": "2021-08-12T15:21:16.026Z"
    }
   },
   "outputs": [],
   "source": [
    "Save"
   ]
  },
  {
   "cell_type": "code",
   "execution_count": null,
   "id": "9ef9d6e4",
   "metadata": {
    "ExecuteTime": {
     "end_time": "2021-08-12T15:21:20.898647Z",
     "start_time": "2021-08-12T15:21:16.027Z"
    }
   },
   "outputs": [],
   "source": [
    "Result['target']=CC.data_target"
   ]
  },
  {
   "cell_type": "code",
   "execution_count": null,
   "id": "ba71ac45",
   "metadata": {
    "ExecuteTime": {
     "end_time": "2021-08-12T15:21:20.900634Z",
     "start_time": "2021-08-12T15:21:16.029Z"
    }
   },
   "outputs": [],
   "source": [
    "Result"
   ]
  },
  {
   "cell_type": "code",
   "execution_count": null,
   "id": "b6f54edd",
   "metadata": {
    "ExecuteTime": {
     "end_time": "2021-08-12T15:21:20.901635Z",
     "start_time": "2021-08-12T15:21:16.030Z"
    }
   },
   "outputs": [],
   "source": [
    "[str(cluster) + str(Result[Result['target']==cluster]['Density'].sum()) for cluster in CC.labels_clusters]"
   ]
  },
  {
   "cell_type": "code",
   "execution_count": null,
   "id": "c832269a",
   "metadata": {
    "ExecuteTime": {
     "end_time": "2021-08-12T15:21:20.902643Z",
     "start_time": "2021-08-12T15:21:16.030Z"
    }
   },
   "outputs": [],
   "source": [
    "Result[Result['target']==1].sum()"
   ]
  },
  {
   "cell_type": "code",
   "execution_count": null,
   "id": "271b3ab5",
   "metadata": {
    "ExecuteTime": {
     "end_time": "2021-08-12T15:21:20.903634Z",
     "start_time": "2021-08-12T15:21:16.031Z"
    }
   },
   "outputs": [],
   "source": [
    "Result[Result['target']==6].sum()"
   ]
  },
  {
   "cell_type": "code",
   "execution_count": null,
   "id": "f7c9e85d",
   "metadata": {
    "ExecuteTime": {
     "end_time": "2021-08-12T15:21:20.905633Z",
     "start_time": "2021-08-12T15:21:16.032Z"
    }
   },
   "outputs": [],
   "source": [
    "qsdqsd"
   ]
  },
  {
   "cell_type": "code",
   "execution_count": null,
   "id": "ca4dcf36",
   "metadata": {
    "ExecuteTime": {
     "end_time": "2021-08-12T15:21:20.906633Z",
     "start_time": "2021-08-12T15:21:16.033Z"
    }
   },
   "outputs": [],
   "source": [
    "CC.graph_PCA_3D()"
   ]
  },
  {
   "cell_type": "code",
   "execution_count": null,
   "id": "68a314ff",
   "metadata": {
    "ExecuteTime": {
     "end_time": "2021-08-12T15:21:20.907642Z",
     "start_time": "2021-08-12T15:21:16.034Z"
    }
   },
   "outputs": [],
   "source": [
    "CC.data_frame"
   ]
  },
  {
   "cell_type": "code",
   "execution_count": null,
   "id": "434a9581",
   "metadata": {
    "ExecuteTime": {
     "end_time": "2021-08-12T15:21:20.908633Z",
     "start_time": "2021-08-12T15:21:16.034Z"
    }
   },
   "outputs": [],
   "source": [
    "Centroid=CC.data_features.iloc[1587]\n",
    "X=CC.data_features.iloc[1586]\n",
    "from numpy import inf\n",
    "def MultivariateGaussian(X, Centroid):\n",
    "    m=len(Centroid)\n",
    "    Sigma=CC.data_features.var().mean()*np.eye(m)\n",
    "    return np.exp(-1/2 * (X-Centroid).T.dot((Sigma).dot(X-Centroid)))\n"
   ]
  },
  {
   "cell_type": "code",
   "execution_count": null,
   "id": "2a5d5f43",
   "metadata": {
    "ExecuteTime": {
     "end_time": "2021-08-12T15:21:20.910634Z",
     "start_time": "2021-08-12T15:21:16.035Z"
    }
   },
   "outputs": [],
   "source": [
    "MultivariateGaussian(X,Centroid)"
   ]
  },
  {
   "cell_type": "code",
   "execution_count": null,
   "id": "6d390687",
   "metadata": {
    "ExecuteTime": {
     "end_time": "2021-08-12T15:21:20.911634Z",
     "start_time": "2021-08-12T15:21:16.036Z"
    }
   },
   "outputs": [],
   "source": [
    "Sigma=CC.data_features.var().mean()*np.eye(CC.data_dimension)"
   ]
  },
  {
   "cell_type": "code",
   "execution_count": null,
   "id": "fff4cb5b",
   "metadata": {
    "ExecuteTime": {
     "end_time": "2021-08-12T15:21:20.912633Z",
     "start_time": "2021-08-12T15:21:16.036Z"
    }
   },
   "outputs": [],
   "source": [
    "CC.utils_ts_filtering(\"HP\", period=12, col=CC.data_features.columns[5])"
   ]
  },
  {
   "cell_type": "code",
   "execution_count": null,
   "id": "5a5a65d3",
   "metadata": {
    "ExecuteTime": {
     "end_time": "2021-08-12T15:21:20.913650Z",
     "start_time": "2021-08-12T15:21:16.037Z"
    }
   },
   "outputs": [],
   "source": [
    "qsd"
   ]
  },
  {
   "cell_type": "code",
   "execution_count": null,
   "id": "5d22b2a1",
   "metadata": {
    "ExecuteTime": {
     "end_time": "2021-08-12T15:21:20.914633Z",
     "start_time": "2021-08-12T15:21:16.038Z"
    }
   },
   "outputs": [],
   "source": [
    "CC.graph_reduction_density_3D(97)"
   ]
  },
  {
   "cell_type": "code",
   "execution_count": null,
   "id": "62537aed",
   "metadata": {
    "ExecuteTime": {
     "end_time": "2021-08-12T15:21:20.916633Z",
     "start_time": "2021-08-12T15:21:16.039Z"
    }
   },
   "outputs": [],
   "source": [
    "CC.graph_reduction_density_3D(99, cluster=[1,3])"
   ]
  },
  {
   "cell_type": "code",
   "execution_count": null,
   "id": "4a92b7d8",
   "metadata": {
    "ExecuteTime": {
     "end_time": "2021-08-12T15:21:20.917633Z",
     "start_time": "2021-08-12T15:21:16.040Z"
    }
   },
   "outputs": [],
   "source": [
    "CC.graph_reduction_density_2D('PCA',99, \"contour\")"
   ]
  },
  {
   "cell_type": "code",
   "execution_count": null,
   "id": "80c58e45",
   "metadata": {
    "ExecuteTime": {
     "end_time": "2021-08-12T15:21:20.918635Z",
     "start_time": "2021-08-12T15:21:16.040Z"
    }
   },
   "outputs": [],
   "source": [
    "CC.graph_reduction_density_2D('PCA',99, \"interactive\")"
   ]
  },
  {
   "cell_type": "code",
   "execution_count": null,
   "id": "db091cb6",
   "metadata": {
    "ExecuteTime": {
     "end_time": "2021-08-12T15:21:20.920633Z",
     "start_time": "2021-08-12T15:21:16.041Z"
    }
   },
   "outputs": [],
   "source": [
    "img_png = CC.density_projection_2D_generate_png(\"PCA\", 97, show=True)"
   ]
  },
  {
   "cell_type": "code",
   "execution_count": null,
   "id": "e9979359",
   "metadata": {
    "ExecuteTime": {
     "end_time": "2021-08-12T15:21:20.921633Z",
     "start_time": "2021-08-12T15:21:16.042Z"
    }
   },
   "outputs": [],
   "source": [
    "CC.graph_confusion_hypersphere_evolution_for_linspace_radius(50,True)"
   ]
  },
  {
   "cell_type": "code",
   "execution_count": null,
   "id": "4206b8ed",
   "metadata": {
    "ExecuteTime": {
     "end_time": "2021-08-12T15:21:20.922633Z",
     "start_time": "2021-08-12T15:21:16.043Z"
    }
   },
   "outputs": [],
   "source": [
    "CC.clusters_info(scaler=\"min_max\")"
   ]
  },
  {
   "cell_type": "code",
   "execution_count": null,
   "id": "8796846d",
   "metadata": {
    "ExecuteTime": {
     "end_time": "2021-08-12T15:21:20.923633Z",
     "start_time": "2021-08-12T15:21:16.043Z"
    }
   },
   "outputs": [],
   "source": [
    "CC.general_info()"
   ]
  },
  {
   "cell_type": "code",
   "execution_count": null,
   "id": "39da3102",
   "metadata": {
    "ExecuteTime": {
     "end_time": "2021-08-12T15:21:20.924632Z",
     "start_time": "2021-08-12T15:21:16.044Z"
    }
   },
   "outputs": [],
   "source": [
    "CC.utils_ClustersRank()"
   ]
  },
  {
   "cell_type": "code",
   "execution_count": null,
   "id": "f0df022c",
   "metadata": {
    "ExecuteTime": {
     "end_time": "2021-08-12T15:21:20.925633Z",
     "start_time": "2021-08-12T15:21:16.045Z"
    }
   },
   "outputs": [],
   "source": [
    "CC."
   ]
  }
 ],
 "metadata": {
  "kernelspec": {
   "display_name": "Python 3",
   "language": "python",
   "name": "python3"
  },
  "language_info": {
   "codemirror_mode": {
    "name": "ipython",
    "version": 3
   },
   "file_extension": ".py",
   "mimetype": "text/x-python",
   "name": "python",
   "nbconvert_exporter": "python",
   "pygments_lexer": "ipython3",
   "version": "3.9.5"
  },
  "varInspector": {
   "cols": {
    "lenName": 16,
    "lenType": 16,
    "lenVar": 40
   },
   "kernels_config": {
    "python": {
     "delete_cmd_postfix": "",
     "delete_cmd_prefix": "del ",
     "library": "var_list.py",
     "varRefreshCmd": "print(var_dic_list())"
    },
    "r": {
     "delete_cmd_postfix": ") ",
     "delete_cmd_prefix": "rm(",
     "library": "var_list.r",
     "varRefreshCmd": "cat(var_dic_list()) "
    }
   },
   "types_to_exclude": [
    "module",
    "function",
    "builtin_function_or_method",
    "instance",
    "_Feature"
   ],
   "window_display": false
  }
 },
 "nbformat": 4,
 "nbformat_minor": 5
}

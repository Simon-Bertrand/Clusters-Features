{
 "cells": [
  {
   "cell_type": "code",
   "execution_count": 1,
   "metadata": {
    "ExecuteTime": {
     "end_time": "2021-07-28T15:24:09.026312Z",
     "start_time": "2021-07-28T15:24:07.831638Z"
    }
   },
   "outputs": [
    {
     "data": {
      "text/html": [
       "<div>\n",
       "<style scoped>\n",
       "    .dataframe tbody tr th:only-of-type {\n",
       "        vertical-align: middle;\n",
       "    }\n",
       "\n",
       "    .dataframe tbody tr th {\n",
       "        vertical-align: top;\n",
       "    }\n",
       "\n",
       "    .dataframe thead th {\n",
       "        text-align: right;\n",
       "    }\n",
       "</style>\n",
       "<table border=\"1\" class=\"dataframe\">\n",
       "  <thead>\n",
       "    <tr style=\"text-align: right;\">\n",
       "      <th></th>\n",
       "      <th>0</th>\n",
       "      <th>1</th>\n",
       "      <th>2</th>\n",
       "      <th>3</th>\n",
       "      <th>4</th>\n",
       "      <th>5</th>\n",
       "      <th>6</th>\n",
       "      <th>7</th>\n",
       "      <th>8</th>\n",
       "      <th>9</th>\n",
       "      <th>...</th>\n",
       "      <th>55</th>\n",
       "      <th>56</th>\n",
       "      <th>57</th>\n",
       "      <th>58</th>\n",
       "      <th>59</th>\n",
       "      <th>60</th>\n",
       "      <th>61</th>\n",
       "      <th>62</th>\n",
       "      <th>63</th>\n",
       "      <th>target</th>\n",
       "    </tr>\n",
       "  </thead>\n",
       "  <tbody>\n",
       "    <tr>\n",
       "      <th>0</th>\n",
       "      <td>0.0</td>\n",
       "      <td>0.0</td>\n",
       "      <td>5.0</td>\n",
       "      <td>13.0</td>\n",
       "      <td>9.0</td>\n",
       "      <td>1.0</td>\n",
       "      <td>0.0</td>\n",
       "      <td>0.0</td>\n",
       "      <td>0.0</td>\n",
       "      <td>0.0</td>\n",
       "      <td>...</td>\n",
       "      <td>0.0</td>\n",
       "      <td>0.0</td>\n",
       "      <td>0.0</td>\n",
       "      <td>6.0</td>\n",
       "      <td>13.0</td>\n",
       "      <td>10.0</td>\n",
       "      <td>0.0</td>\n",
       "      <td>0.0</td>\n",
       "      <td>0.0</td>\n",
       "      <td>0</td>\n",
       "    </tr>\n",
       "    <tr>\n",
       "      <th>1</th>\n",
       "      <td>0.0</td>\n",
       "      <td>0.0</td>\n",
       "      <td>0.0</td>\n",
       "      <td>12.0</td>\n",
       "      <td>13.0</td>\n",
       "      <td>5.0</td>\n",
       "      <td>0.0</td>\n",
       "      <td>0.0</td>\n",
       "      <td>0.0</td>\n",
       "      <td>0.0</td>\n",
       "      <td>...</td>\n",
       "      <td>0.0</td>\n",
       "      <td>0.0</td>\n",
       "      <td>0.0</td>\n",
       "      <td>0.0</td>\n",
       "      <td>11.0</td>\n",
       "      <td>16.0</td>\n",
       "      <td>10.0</td>\n",
       "      <td>0.0</td>\n",
       "      <td>0.0</td>\n",
       "      <td>1</td>\n",
       "    </tr>\n",
       "    <tr>\n",
       "      <th>2</th>\n",
       "      <td>0.0</td>\n",
       "      <td>0.0</td>\n",
       "      <td>0.0</td>\n",
       "      <td>4.0</td>\n",
       "      <td>15.0</td>\n",
       "      <td>12.0</td>\n",
       "      <td>0.0</td>\n",
       "      <td>0.0</td>\n",
       "      <td>0.0</td>\n",
       "      <td>0.0</td>\n",
       "      <td>...</td>\n",
       "      <td>0.0</td>\n",
       "      <td>0.0</td>\n",
       "      <td>0.0</td>\n",
       "      <td>0.0</td>\n",
       "      <td>3.0</td>\n",
       "      <td>11.0</td>\n",
       "      <td>16.0</td>\n",
       "      <td>9.0</td>\n",
       "      <td>0.0</td>\n",
       "      <td>2</td>\n",
       "    </tr>\n",
       "    <tr>\n",
       "      <th>3</th>\n",
       "      <td>0.0</td>\n",
       "      <td>0.0</td>\n",
       "      <td>7.0</td>\n",
       "      <td>15.0</td>\n",
       "      <td>13.0</td>\n",
       "      <td>1.0</td>\n",
       "      <td>0.0</td>\n",
       "      <td>0.0</td>\n",
       "      <td>0.0</td>\n",
       "      <td>8.0</td>\n",
       "      <td>...</td>\n",
       "      <td>0.0</td>\n",
       "      <td>0.0</td>\n",
       "      <td>0.0</td>\n",
       "      <td>7.0</td>\n",
       "      <td>13.0</td>\n",
       "      <td>13.0</td>\n",
       "      <td>9.0</td>\n",
       "      <td>0.0</td>\n",
       "      <td>0.0</td>\n",
       "      <td>3</td>\n",
       "    </tr>\n",
       "    <tr>\n",
       "      <th>4</th>\n",
       "      <td>0.0</td>\n",
       "      <td>0.0</td>\n",
       "      <td>0.0</td>\n",
       "      <td>1.0</td>\n",
       "      <td>11.0</td>\n",
       "      <td>0.0</td>\n",
       "      <td>0.0</td>\n",
       "      <td>0.0</td>\n",
       "      <td>0.0</td>\n",
       "      <td>0.0</td>\n",
       "      <td>...</td>\n",
       "      <td>0.0</td>\n",
       "      <td>0.0</td>\n",
       "      <td>0.0</td>\n",
       "      <td>0.0</td>\n",
       "      <td>2.0</td>\n",
       "      <td>16.0</td>\n",
       "      <td>4.0</td>\n",
       "      <td>0.0</td>\n",
       "      <td>0.0</td>\n",
       "      <td>4</td>\n",
       "    </tr>\n",
       "    <tr>\n",
       "      <th>...</th>\n",
       "      <td>...</td>\n",
       "      <td>...</td>\n",
       "      <td>...</td>\n",
       "      <td>...</td>\n",
       "      <td>...</td>\n",
       "      <td>...</td>\n",
       "      <td>...</td>\n",
       "      <td>...</td>\n",
       "      <td>...</td>\n",
       "      <td>...</td>\n",
       "      <td>...</td>\n",
       "      <td>...</td>\n",
       "      <td>...</td>\n",
       "      <td>...</td>\n",
       "      <td>...</td>\n",
       "      <td>...</td>\n",
       "      <td>...</td>\n",
       "      <td>...</td>\n",
       "      <td>...</td>\n",
       "      <td>...</td>\n",
       "      <td>...</td>\n",
       "    </tr>\n",
       "    <tr>\n",
       "      <th>1792</th>\n",
       "      <td>0.0</td>\n",
       "      <td>0.0</td>\n",
       "      <td>4.0</td>\n",
       "      <td>10.0</td>\n",
       "      <td>13.0</td>\n",
       "      <td>6.0</td>\n",
       "      <td>0.0</td>\n",
       "      <td>0.0</td>\n",
       "      <td>0.0</td>\n",
       "      <td>1.0</td>\n",
       "      <td>...</td>\n",
       "      <td>0.0</td>\n",
       "      <td>0.0</td>\n",
       "      <td>0.0</td>\n",
       "      <td>2.0</td>\n",
       "      <td>14.0</td>\n",
       "      <td>15.0</td>\n",
       "      <td>9.0</td>\n",
       "      <td>0.0</td>\n",
       "      <td>0.0</td>\n",
       "      <td>9</td>\n",
       "    </tr>\n",
       "    <tr>\n",
       "      <th>1793</th>\n",
       "      <td>0.0</td>\n",
       "      <td>0.0</td>\n",
       "      <td>6.0</td>\n",
       "      <td>16.0</td>\n",
       "      <td>13.0</td>\n",
       "      <td>11.0</td>\n",
       "      <td>1.0</td>\n",
       "      <td>0.0</td>\n",
       "      <td>0.0</td>\n",
       "      <td>0.0</td>\n",
       "      <td>...</td>\n",
       "      <td>0.0</td>\n",
       "      <td>0.0</td>\n",
       "      <td>0.0</td>\n",
       "      <td>6.0</td>\n",
       "      <td>16.0</td>\n",
       "      <td>14.0</td>\n",
       "      <td>6.0</td>\n",
       "      <td>0.0</td>\n",
       "      <td>0.0</td>\n",
       "      <td>0</td>\n",
       "    </tr>\n",
       "    <tr>\n",
       "      <th>1794</th>\n",
       "      <td>0.0</td>\n",
       "      <td>0.0</td>\n",
       "      <td>1.0</td>\n",
       "      <td>11.0</td>\n",
       "      <td>15.0</td>\n",
       "      <td>1.0</td>\n",
       "      <td>0.0</td>\n",
       "      <td>0.0</td>\n",
       "      <td>0.0</td>\n",
       "      <td>0.0</td>\n",
       "      <td>...</td>\n",
       "      <td>0.0</td>\n",
       "      <td>0.0</td>\n",
       "      <td>0.0</td>\n",
       "      <td>2.0</td>\n",
       "      <td>9.0</td>\n",
       "      <td>13.0</td>\n",
       "      <td>6.0</td>\n",
       "      <td>0.0</td>\n",
       "      <td>0.0</td>\n",
       "      <td>8</td>\n",
       "    </tr>\n",
       "    <tr>\n",
       "      <th>1795</th>\n",
       "      <td>0.0</td>\n",
       "      <td>0.0</td>\n",
       "      <td>2.0</td>\n",
       "      <td>10.0</td>\n",
       "      <td>7.0</td>\n",
       "      <td>0.0</td>\n",
       "      <td>0.0</td>\n",
       "      <td>0.0</td>\n",
       "      <td>0.0</td>\n",
       "      <td>0.0</td>\n",
       "      <td>...</td>\n",
       "      <td>0.0</td>\n",
       "      <td>0.0</td>\n",
       "      <td>0.0</td>\n",
       "      <td>5.0</td>\n",
       "      <td>12.0</td>\n",
       "      <td>16.0</td>\n",
       "      <td>12.0</td>\n",
       "      <td>0.0</td>\n",
       "      <td>0.0</td>\n",
       "      <td>9</td>\n",
       "    </tr>\n",
       "    <tr>\n",
       "      <th>1796</th>\n",
       "      <td>0.0</td>\n",
       "      <td>0.0</td>\n",
       "      <td>10.0</td>\n",
       "      <td>14.0</td>\n",
       "      <td>8.0</td>\n",
       "      <td>1.0</td>\n",
       "      <td>0.0</td>\n",
       "      <td>0.0</td>\n",
       "      <td>0.0</td>\n",
       "      <td>2.0</td>\n",
       "      <td>...</td>\n",
       "      <td>0.0</td>\n",
       "      <td>0.0</td>\n",
       "      <td>1.0</td>\n",
       "      <td>8.0</td>\n",
       "      <td>12.0</td>\n",
       "      <td>14.0</td>\n",
       "      <td>12.0</td>\n",
       "      <td>1.0</td>\n",
       "      <td>0.0</td>\n",
       "      <td>8</td>\n",
       "    </tr>\n",
       "  </tbody>\n",
       "</table>\n",
       "<p>1797 rows × 65 columns</p>\n",
       "</div>"
      ],
      "text/plain": [
       "        0    1     2     3     4     5    6    7    8    9  ...   55   56  \\\n",
       "0     0.0  0.0   5.0  13.0   9.0   1.0  0.0  0.0  0.0  0.0  ...  0.0  0.0   \n",
       "1     0.0  0.0   0.0  12.0  13.0   5.0  0.0  0.0  0.0  0.0  ...  0.0  0.0   \n",
       "2     0.0  0.0   0.0   4.0  15.0  12.0  0.0  0.0  0.0  0.0  ...  0.0  0.0   \n",
       "3     0.0  0.0   7.0  15.0  13.0   1.0  0.0  0.0  0.0  8.0  ...  0.0  0.0   \n",
       "4     0.0  0.0   0.0   1.0  11.0   0.0  0.0  0.0  0.0  0.0  ...  0.0  0.0   \n",
       "...   ...  ...   ...   ...   ...   ...  ...  ...  ...  ...  ...  ...  ...   \n",
       "1792  0.0  0.0   4.0  10.0  13.0   6.0  0.0  0.0  0.0  1.0  ...  0.0  0.0   \n",
       "1793  0.0  0.0   6.0  16.0  13.0  11.0  1.0  0.0  0.0  0.0  ...  0.0  0.0   \n",
       "1794  0.0  0.0   1.0  11.0  15.0   1.0  0.0  0.0  0.0  0.0  ...  0.0  0.0   \n",
       "1795  0.0  0.0   2.0  10.0   7.0   0.0  0.0  0.0  0.0  0.0  ...  0.0  0.0   \n",
       "1796  0.0  0.0  10.0  14.0   8.0   1.0  0.0  0.0  0.0  2.0  ...  0.0  0.0   \n",
       "\n",
       "       57   58    59    60    61   62   63  target  \n",
       "0     0.0  6.0  13.0  10.0   0.0  0.0  0.0       0  \n",
       "1     0.0  0.0  11.0  16.0  10.0  0.0  0.0       1  \n",
       "2     0.0  0.0   3.0  11.0  16.0  9.0  0.0       2  \n",
       "3     0.0  7.0  13.0  13.0   9.0  0.0  0.0       3  \n",
       "4     0.0  0.0   2.0  16.0   4.0  0.0  0.0       4  \n",
       "...   ...  ...   ...   ...   ...  ...  ...     ...  \n",
       "1792  0.0  2.0  14.0  15.0   9.0  0.0  0.0       9  \n",
       "1793  0.0  6.0  16.0  14.0   6.0  0.0  0.0       0  \n",
       "1794  0.0  2.0   9.0  13.0   6.0  0.0  0.0       8  \n",
       "1795  0.0  5.0  12.0  16.0  12.0  0.0  0.0       9  \n",
       "1796  1.0  8.0  12.0  14.0  12.0  1.0  0.0       8  \n",
       "\n",
       "[1797 rows x 65 columns]"
      ]
     },
     "execution_count": 1,
     "metadata": {},
     "output_type": "execute_result"
    }
   ],
   "source": [
    "from ClustersFeatures import *\n",
    "from sklearn.datasets import load_digits\n",
    "import pandas as pd\n",
    "digits = load_digits()\n",
    "pd_df=pd.DataFrame(digits.data)\n",
    "pd_df['target'] = digits.target\n",
    "pd_df"
   ]
  },
  {
   "cell_type": "code",
   "execution_count": 2,
   "metadata": {
    "ExecuteTime": {
     "end_time": "2021-07-28T15:24:10.488595Z",
     "start_time": "2021-07-28T15:24:09.028310Z"
    }
   },
   "outputs": [],
   "source": [
    "CC=ClustersCharacteristics(pd_df, \"target\")\n",
    "\n"
   ]
  },
  {
   "cell_type": "code",
   "execution_count": 3,
   "metadata": {},
   "outputs": [
    {
     "name": "stdout",
     "output_type": "stream",
     "text": [
      "score_index_ball_hall \n",
      "\n",
      "6.63 ms ± 335 µs per loop (mean ± std. dev. of 7 runs, 100 loops each)\n",
      "\n",
      "score_index_banfeld_Raftery\n",
      "\n",
      "6.35 ms ± 155 µs per loop (mean ± std. dev. of 7 runs, 100 loops each)\n",
      "\n",
      "score_index_c\n",
      "\n",
      "239 ms ± 7.2 ms per loop (mean ± std. dev. of 7 runs, 1 loop each)\n",
      "\n",
      "score_index_c_for_each_cluster\n",
      "\n",
      "209 ms ± 5.31 ms per loop (mean ± std. dev. of 7 runs, 1 loop each)\n",
      "\n",
      "score_index_calinski_harabasz \n",
      "\n",
      "33.1 ms ± 1.35 ms per loop (mean ± std. dev. of 7 runs, 10 loops each)\n",
      "\n",
      "score_index_davies_bouldin \n",
      "\n",
      "27.5 ms ± 919 µs per loop (mean ± std. dev. of 7 runs, 10 loops each)\n",
      "\n",
      "score_index_davies_bouldin_for_each_cluster \n",
      "\n",
      "27.7 ms ± 861 µs per loop (mean ± std. dev. of 7 runs, 10 loops each)\n",
      "\n",
      "score_index_det_ratio \n",
      "\n",
      "504 ms ± 93 ms per loop (mean ± std. dev. of 7 runs, 1 loop each)\n",
      "\n",
      "score_index_dunn\n",
      "\n",
      "41.8 ms ± 817 µs per loop (mean ± std. dev. of 7 runs, 10 loops each)\n",
      "\n",
      "score_index_generalized_dunn_matrix\n",
      "\n",
      "2.49 s ± 89.9 ms per loop (mean ± std. dev. of 7 runs, 1 loop each)\n",
      "\n",
      "score_index_Log_Det_ratio\n",
      "\n",
      "469 ms ± 45.8 ms per loop (mean ± std. dev. of 7 runs, 1 loop each)\n",
      "\n",
      "score_index_log_ss_ratio \n",
      "\n",
      "32.7 ms ± 1.51 ms per loop (mean ± std. dev. of 7 runs, 10 loops each)\n",
      "\n",
      "score_index_mclain_rao \n",
      "\n",
      "151 ms ± 1.27 ms per loop (mean ± std. dev. of 7 runs, 10 loops each)\n",
      "\n",
      "score_index_PBM \n",
      "\n",
      "51.5 ms ± 725 µs per loop (mean ± std. dev. of 7 runs, 10 loops each)\n",
      "\n",
      "score_index_point_biserial\n",
      "\n",
      "153 ms ± 6.44 ms per loop (mean ± std. dev. of 7 runs, 10 loops each)\n",
      "\n",
      "score_index_ratkowsky_lance \n",
      "\n",
      "32 ms ± 6.34 ms per loop (mean ± std. dev. of 7 runs, 10 loops each)\n",
      "\n",
      "score_index_ray_turi \n",
      "\n",
      "55.1 ms ± 11.1 ms per loop (mean ± std. dev. of 7 runs, 10 loops each)\n",
      "\n",
      "score_index_S_Dbw \n",
      "\n",
      "673 ms ± 71.7 ms per loop (mean ± std. dev. of 7 runs, 1 loop each)\n",
      "\n",
      "score_index_scott_symons\n",
      "\n",
      "373 ms ± 30.6 ms per loop (mean ± std. dev. of 7 runs, 1 loop each)\n",
      "\n",
      "score_index_SD \n",
      "\n",
      "592 ms ± 109 ms per loop (mean ± std. dev. of 7 runs, 1 loop each)\n",
      "\n",
      "score_index_trace_WiB \n",
      "\n",
      "424 ms ± 73.3 ms per loop (mean ± std. dev. of 7 runs, 1 loop each)\n",
      "\n",
      "score_index_wemmert_gancarski \n",
      "\n",
      "21.6 ms ± 3.76 ms per loop (mean ± std. dev. of 7 runs, 10 loops each)\n",
      "\n",
      "score_index_xie_beni\n",
      "\n",
      "199 ms ± 7.94 ms per loop (mean ± std. dev. of 7 runs, 10 loops each)\n"
     ]
    }
   ],
   "source": [
    "print('score_index_ball_hall \\n')\n",
    "%timeit CC.score_index_ball_hall()\n",
    "print('\\nscore_index_banfeld_Raftery\\n')\n",
    "%timeit CC.score_index_banfeld_Raftery()\n",
    "print('\\nscore_index_c\\n')\n",
    "%timeit CC.score_index_c()\n",
    "print('\\nscore_index_c_for_each_cluster\\n')\n",
    "%timeit CC.score_index_c_for_each_cluster(0)\n",
    "print('\\nscore_index_calinski_harabasz \\n')\n",
    "%timeit CC.score_index_calinski_harabasz()\n",
    "print('\\nscore_index_davies_bouldin \\n')\n",
    "%timeit CC.score_index_davies_bouldin()\n",
    "print('\\nscore_index_davies_bouldin_for_each_cluster \\n')\n",
    "%timeit CC.score_index_davies_bouldin_for_each_cluster()\n",
    "print('\\nscore_index_det_ratio \\n')\n",
    "%timeit CC.score_index_det_ratio()\n",
    "print('\\nscore_index_dunn\\n')\n",
    "%timeit CC.score_index_dunn()\n",
    "print('\\nscore_index_generalized_dunn_matrix\\n')\n",
    "%timeit CC.score_index_generalized_dunn_matrix()\n",
    "print('\\nscore_index_Log_Det_ratio\\n')\n",
    "%timeit CC.score_index_Log_Det_ratio()\n",
    "print('\\nscore_index_log_ss_ratio \\n')\n",
    "%timeit CC.score_index_log_ss_ratio()\n",
    "print('\\nscore_index_mclain_rao \\n')\n",
    "%timeit CC.score_index_mclain_rao()\n",
    "print('\\nscore_index_PBM \\n')\n",
    "%timeit CC.score_index_PBM()\n",
    "print('\\nscore_index_point_biserial\\n')\n",
    "%timeit CC.score_index_point_biserial()\n",
    "print('\\nscore_index_ratkowsky_lance \\n')\n",
    "%timeit CC.score_index_ratkowsky_lance()\n",
    "print('\\nscore_index_ray_turi \\n')\n",
    "%timeit CC.score_index_ray_turi()\n",
    "print('\\nscore_index_S_Dbw \\n')\n",
    "%timeit CC.score_index_S_Dbw()\n",
    "print('\\nscore_index_scott_symons\\n')\n",
    "%timeit CC.score_index_scott_symons()\n",
    "print('\\nscore_index_SD \\n')\n",
    "%timeit CC.score_index_SD()\n",
    "print('\\nscore_index_trace_WiB \\n')\n",
    "%timeit CC.score_index_trace_WiB()\n",
    "print('\\nscore_index_wemmert_gancarski \\n')\n",
    "%timeit CC.score_index_wemmert_gancarski()\n",
    "print('\\nscore_index_xie_beni\\n')\n",
    "%timeit CC.score_index_xie_beni()"
   ]
  },
  {
   "cell_type": "code",
   "execution_count": 4,
   "metadata": {},
   "outputs": [
    {
     "ename": "NameError",
     "evalue": "name 'qsd' is not defined",
     "output_type": "error",
     "traceback": [
      "\u001b[1;31m-----------------------------------------------------------------\u001b[0m",
      "\u001b[1;31mNameError\u001b[0m                       Traceback (most recent call last)",
      "\u001b[1;32m<ipython-input-4-44fcdd6a1b2d>\u001b[0m in \u001b[0;36m<module>\u001b[1;34m\u001b[0m\n\u001b[1;32m----> 1\u001b[1;33m \u001b[0mqsd\u001b[0m\u001b[1;33m\u001b[0m\u001b[1;33m\u001b[0m\u001b[0m\n\u001b[0m",
      "\u001b[1;31mNameError\u001b[0m: name 'qsd' is not defined"
     ]
    }
   ],
   "source": [
    "qsd"
   ]
  },
  {
   "cell_type": "code",
   "execution_count": null,
   "metadata": {},
   "outputs": [],
   "source": []
  },
  {
   "cell_type": "code",
   "execution_count": null,
   "metadata": {},
   "outputs": [],
   "source": [
    "def essai():\n",
    "\n",
    "print(essai())\n",
    "%timeit essai()"
   ]
  },
  {
   "cell_type": "code",
   "execution_count": null,
   "metadata": {},
   "outputs": [],
   "source": [
    "df"
   ]
  },
  {
   "cell_type": "code",
   "execution_count": null,
   "metadata": {},
   "outputs": [],
   "source": [
    "bc_list = np.arange(1, 7)\n",
    "wc_list = np.arange(1, 4)\n",
    "\n",
    "df = pd.DataFrame(columns=wc_list, index=bc_list)\n",
    "for bc in bc_list:\n",
    "    for wc in wc_list:\n",
    "        print(wc,bc)\n",
    "        %timeit CC.score_index_generalized_dunn(within_cluster_distance=wc, between_cluster_distance=bc)\n",
    "        df.loc[bc, wc] = CC.score_index_generalized_dunn(within_cluster_distance=wc, between_cluster_distance=bc)\n",
    "        \n",
    "df.index.name = \"Generalized Dunn Indexes\"\n",
    "df"
   ]
  },
  {
   "cell_type": "code",
   "execution_count": null,
   "metadata": {},
   "outputs": [],
   "source": [
    "dddd"
   ]
  },
  {
   "cell_type": "code",
   "execution_count": null,
   "metadata": {},
   "outputs": [],
   "source": [
    "%timeit [CC.data_interelement_distance_between_elements_of_two_clusters(Cluster, Cluster).max().max() for Cluster in CC.labels_clusters]"
   ]
  },
  {
   "cell_type": "code",
   "execution_count": null,
   "metadata": {},
   "outputs": [],
   "source": [
    "pair_of_points = lambda x: x * (x - 1) / 2\n",
    "\n",
    "NW = np.sum(\n",
    "[pair_of_points(CC.num_observation_for_specific_cluster[Cluster]) for Cluster in CC.labels_clusters])\n",
    "distances_list_ordered = np.sort(CC.data_every_element_distance_to_every_element.to_numpy()[\n",
    "                                     np.tri(CC.num_observations, CC.num_observations, k=-1) > 0])\n",
    "\n",
    "Smin = np.sum(distances_list_ordered[:int(NW)])\n",
    "Smax = np.sum(distances_list_ordered[-int(NW):])\n",
    "SW = np.sum([CC.data_interelement_distance_between_elements_of_two_clusters(Cluster, Cluster).where(\n",
    "    np.tri(CC.num_observation_for_specific_cluster[Cluster], CC.num_observation_for_specific_cluster[Cluster],\n",
    "           k=-1) > 0).sum(skipna=True).sum() for Cluster in CC.labels_clusters])"
   ]
  },
  {
   "cell_type": "code",
   "execution_count": null,
   "metadata": {},
   "outputs": [],
   "source": [
    "%timeit np.sum([pair_of_points(CC.num_observation_for_specific_cluster[Cluster]) for Cluster in CC.labels_clusters])\n",
    "%timeit np.sort(CC.data_every_element_distance_to_every_element.to_numpy()[np.tri(CC.num_observations, CC.num_observations, k=-1) > 0])"
   ]
  },
  {
   "cell_type": "code",
   "execution_count": null,
   "metadata": {},
   "outputs": [],
   "source": [
    "%timeit np.sum([CC.data_interelement_distance_between_elements_of_two_clusters(Cluster, Cluster).to_numpy()[np.tri(CC.num_observation_for_specific_cluster[Cluster], CC.num_observation_for_specific_cluster[Cluster],k=-1) > 0].sum().sum() for Cluster in CC.labels_clusters])"
   ]
  },
  {
   "cell_type": "code",
   "execution_count": null,
   "metadata": {},
   "outputs": [],
   "source": [
    "np.sort(CC.data_every_element_distance_to_every_element.to_numpy()[np.tri(CC.num_observations, CC.num_observations, k=-1) > 0]).sum()"
   ]
  },
  {
   "cell_type": "code",
   "execution_count": null,
   "metadata": {},
   "outputs": [],
   "source": []
  },
  {
   "cell_type": "code",
   "execution_count": null,
   "metadata": {},
   "outputs": [],
   "source": [
    "%timeit CC.data_interelement_distance_minimum_matrix()\n",
    "%timeit np.max([CC.data_interelement_distance_between_elements_of_two_clusters(Cluster, Cluster).max().max() for Cluster in CC.labels_clusters])"
   ]
  },
  {
   "cell_type": "code",
   "execution_count": null,
   "metadata": {},
   "outputs": [],
   "source": [
    "%timeit CC.score_index_davies_bouldin()"
   ]
  },
  {
   "cell_type": "code",
   "execution_count": null,
   "metadata": {},
   "outputs": [],
   "source": [
    "%timeit pd.DataFrame(CC.data_every_cluster_element_distance_to_centroids).mean()"
   ]
  },
  {
   "cell_type": "code",
   "execution_count": null,
   "metadata": {},
   "outputs": [],
   "source": [
    "\n",
    "%timeit np.array([CC.data_every_element_distance_to_centroids.iloc[CC.data_clusters[Cluster1].index, Cluster1].mean() for Cluster1 in CC.labels_clusters])"
   ]
  },
  {
   "cell_type": "code",
   "execution_count": null,
   "metadata": {},
   "outputs": [],
   "source": [
    "%timeit CC.data_interelement_distance_between_elements_of_two_clusters(0,0)\n",
    "%timeit CC.data_interelement_distance_for_clusters(clusters=1)"
   ]
  },
  {
   "cell_type": "code",
   "execution_count": null,
   "metadata": {
    "ExecuteTime": {
     "end_time": "2021-07-28T14:00:29.449258Z",
     "start_time": "2021-07-28T14:00:29.379252Z"
    }
   },
   "outputs": [],
   "source": [
    "CC.general_info(hide_nan=True)"
   ]
  },
  {
   "cell_type": "code",
   "execution_count": null,
   "metadata": {},
   "outputs": [],
   "source": [
    "pd.DataFrame(CC.data_every_cluster_element_distance_to_centroids)"
   ]
  },
  {
   "cell_type": "code",
   "execution_count": null,
   "metadata": {
    "ExecuteTime": {
     "end_time": "2021-07-28T15:24:40.745954Z",
     "start_time": "2021-07-28T15:24:40.722939Z"
    }
   },
   "outputs": [],
   "source": [
    "CC.clusters_info"
   ]
  },
  {
   "cell_type": "code",
   "execution_count": null,
   "metadata": {
    "ExecuteTime": {
     "end_time": "2021-07-28T15:24:21.925959Z",
     "start_time": "2021-07-28T15:24:21.640013Z"
    }
   },
   "outputs": [],
   "source": [
    "from sklearn.datasets import make_blobs\n",
    "\n",
    "from sklearn.preprocessing import StandardScaler\n",
    "\n",
    "import seaborn as sns\n",
    "import pandas as pd\n",
    "X, y = make_blobs(n_samples=200, centers=4, n_features=7,cluster_std=[0.3,3,5,1])\n",
    "X=StandardScaler().fit_transform(X)\n",
    "T=pd.DataFrame(data=X)\n",
    "T['target']=y\n",
    "CC2=ClustersCharacteristics(T,\"target\")"
   ]
  },
  {
   "cell_type": "code",
   "execution_count": null,
   "metadata": {
    "ExecuteTime": {
     "end_time": "2021-07-28T15:30:57.775332Z",
     "start_time": "2021-07-28T15:30:57.747331Z"
    }
   },
   "outputs": [],
   "source": [
    "CC2.data_interelement_distance_for_clusters(clusters=[1])"
   ]
  },
  {
   "cell_type": "code",
   "execution_count": null,
   "metadata": {
    "ExecuteTime": {
     "end_time": "2021-07-28T15:31:06.018885Z",
     "start_time": "2021-07-28T15:31:05.971058Z"
    }
   },
   "outputs": [],
   "source": [
    "CC2.data_interelement_distance_for_clusters(clusters=[1,2])"
   ]
  },
  {
   "cell_type": "code",
   "execution_count": null,
   "metadata": {
    "ExecuteTime": {
     "end_time": "2021-07-28T15:31:36.902598Z",
     "start_time": "2021-07-28T15:31:36.850599Z"
    }
   },
   "outputs": [],
   "source": [
    "CC2.clusters_info"
   ]
  },
  {
   "cell_type": "code",
   "execution_count": null,
   "metadata": {
    "ExecuteTime": {
     "end_time": "2021-07-28T15:31:48.462464Z",
     "start_time": "2021-07-28T15:31:48.436837Z"
    }
   },
   "outputs": [],
   "source": [
    "CC2.general_info()"
   ]
  },
  {
   "cell_type": "code",
   "execution_count": null,
   "metadata": {
    "ExecuteTime": {
     "end_time": "2021-07-28T15:32:44.494428Z",
     "start_time": "2021-07-28T15:32:44.483418Z"
    }
   },
   "outputs": [],
   "source": []
  },
  {
   "cell_type": "code",
   "execution_count": null,
   "metadata": {
    "ExecuteTime": {
     "end_time": "2021-07-28T15:40:16.836936Z",
     "start_time": "2021-07-28T15:40:16.819918Z"
    }
   },
   "outputs": [],
   "source": [
    "CC2.confusion_hypersphere_matrix(radius=0.15, counting_type='including')"
   ]
  },
  {
   "cell_type": "code",
   "execution_count": null,
   "metadata": {
    "ExecuteTime": {
     "end_time": "2021-07-28T15:41:09.993608Z",
     "start_time": "2021-07-28T15:41:09.970618Z"
    }
   },
   "outputs": [],
   "source": [
    "CC2.data_intercentroid_distance_matrix()"
   ]
  },
  {
   "cell_type": "code",
   "execution_count": null,
   "metadata": {
    "ExecuteTime": {
     "end_time": "2021-07-28T15:41:46.687225Z",
     "start_time": "2021-07-28T15:41:46.674227Z"
    }
   },
   "outputs": [],
   "source": [
    "CC2.data_centroids"
   ]
  },
  {
   "cell_type": "code",
   "execution_count": null,
   "metadata": {},
   "outputs": [],
   "source": []
  }
 ],
 "metadata": {
  "kernelspec": {
   "display_name": "Python 3",
   "language": "python",
   "name": "python3"
  },
  "language_info": {
   "codemirror_mode": {
    "name": "ipython",
    "version": 3
   },
   "file_extension": ".py",
   "mimetype": "text/x-python",
   "name": "python",
   "nbconvert_exporter": "python",
   "pygments_lexer": "ipython3",
   "version": "3.8.5"
  },
  "varInspector": {
   "cols": {
    "lenName": 16,
    "lenType": 16,
    "lenVar": 40
   },
   "kernels_config": {
    "python": {
     "delete_cmd_postfix": "",
     "delete_cmd_prefix": "del ",
     "library": "var_list.py",
     "varRefreshCmd": "print(var_dic_list())"
    },
    "r": {
     "delete_cmd_postfix": ") ",
     "delete_cmd_prefix": "rm(",
     "library": "var_list.r",
     "varRefreshCmd": "cat(var_dic_list()) "
    }
   },
   "types_to_exclude": [
    "module",
    "function",
    "builtin_function_or_method",
    "instance",
    "_Feature"
   ],
   "window_display": false
  }
 },
 "nbformat": 4,
 "nbformat_minor": 5
}

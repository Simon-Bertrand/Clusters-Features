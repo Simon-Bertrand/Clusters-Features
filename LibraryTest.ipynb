{
 "cells": [
  {
   "cell_type": "code",
   "execution_count": 1,
   "id": "0bd59c90",
   "metadata": {},
   "outputs": [
    {
     "data": {
      "text/html": [
       "<div>\n",
       "<style scoped>\n",
       "    .dataframe tbody tr th:only-of-type {\n",
       "        vertical-align: middle;\n",
       "    }\n",
       "\n",
       "    .dataframe tbody tr th {\n",
       "        vertical-align: top;\n",
       "    }\n",
       "\n",
       "    .dataframe thead th {\n",
       "        text-align: right;\n",
       "    }\n",
       "</style>\n",
       "<table border=\"1\" class=\"dataframe\">\n",
       "  <thead>\n",
       "    <tr style=\"text-align: right;\">\n",
       "      <th></th>\n",
       "      <th>0</th>\n",
       "      <th>1</th>\n",
       "      <th>2</th>\n",
       "      <th>3</th>\n",
       "      <th>4</th>\n",
       "      <th>5</th>\n",
       "      <th>6</th>\n",
       "      <th>7</th>\n",
       "      <th>8</th>\n",
       "      <th>9</th>\n",
       "      <th>...</th>\n",
       "      <th>55</th>\n",
       "      <th>56</th>\n",
       "      <th>57</th>\n",
       "      <th>58</th>\n",
       "      <th>59</th>\n",
       "      <th>60</th>\n",
       "      <th>61</th>\n",
       "      <th>62</th>\n",
       "      <th>63</th>\n",
       "      <th>target</th>\n",
       "    </tr>\n",
       "  </thead>\n",
       "  <tbody>\n",
       "    <tr>\n",
       "      <th>0</th>\n",
       "      <td>0.0</td>\n",
       "      <td>0.0</td>\n",
       "      <td>5.0</td>\n",
       "      <td>13.0</td>\n",
       "      <td>9.0</td>\n",
       "      <td>1.0</td>\n",
       "      <td>0.0</td>\n",
       "      <td>0.0</td>\n",
       "      <td>0.0</td>\n",
       "      <td>0.0</td>\n",
       "      <td>...</td>\n",
       "      <td>0.0</td>\n",
       "      <td>0.0</td>\n",
       "      <td>0.0</td>\n",
       "      <td>6.0</td>\n",
       "      <td>13.0</td>\n",
       "      <td>10.0</td>\n",
       "      <td>0.0</td>\n",
       "      <td>0.0</td>\n",
       "      <td>0.0</td>\n",
       "      <td>0</td>\n",
       "    </tr>\n",
       "    <tr>\n",
       "      <th>1</th>\n",
       "      <td>0.0</td>\n",
       "      <td>0.0</td>\n",
       "      <td>0.0</td>\n",
       "      <td>12.0</td>\n",
       "      <td>13.0</td>\n",
       "      <td>5.0</td>\n",
       "      <td>0.0</td>\n",
       "      <td>0.0</td>\n",
       "      <td>0.0</td>\n",
       "      <td>0.0</td>\n",
       "      <td>...</td>\n",
       "      <td>0.0</td>\n",
       "      <td>0.0</td>\n",
       "      <td>0.0</td>\n",
       "      <td>0.0</td>\n",
       "      <td>11.0</td>\n",
       "      <td>16.0</td>\n",
       "      <td>10.0</td>\n",
       "      <td>0.0</td>\n",
       "      <td>0.0</td>\n",
       "      <td>1</td>\n",
       "    </tr>\n",
       "    <tr>\n",
       "      <th>2</th>\n",
       "      <td>0.0</td>\n",
       "      <td>0.0</td>\n",
       "      <td>0.0</td>\n",
       "      <td>4.0</td>\n",
       "      <td>15.0</td>\n",
       "      <td>12.0</td>\n",
       "      <td>0.0</td>\n",
       "      <td>0.0</td>\n",
       "      <td>0.0</td>\n",
       "      <td>0.0</td>\n",
       "      <td>...</td>\n",
       "      <td>0.0</td>\n",
       "      <td>0.0</td>\n",
       "      <td>0.0</td>\n",
       "      <td>0.0</td>\n",
       "      <td>3.0</td>\n",
       "      <td>11.0</td>\n",
       "      <td>16.0</td>\n",
       "      <td>9.0</td>\n",
       "      <td>0.0</td>\n",
       "      <td>2</td>\n",
       "    </tr>\n",
       "    <tr>\n",
       "      <th>3</th>\n",
       "      <td>0.0</td>\n",
       "      <td>0.0</td>\n",
       "      <td>7.0</td>\n",
       "      <td>15.0</td>\n",
       "      <td>13.0</td>\n",
       "      <td>1.0</td>\n",
       "      <td>0.0</td>\n",
       "      <td>0.0</td>\n",
       "      <td>0.0</td>\n",
       "      <td>8.0</td>\n",
       "      <td>...</td>\n",
       "      <td>0.0</td>\n",
       "      <td>0.0</td>\n",
       "      <td>0.0</td>\n",
       "      <td>7.0</td>\n",
       "      <td>13.0</td>\n",
       "      <td>13.0</td>\n",
       "      <td>9.0</td>\n",
       "      <td>0.0</td>\n",
       "      <td>0.0</td>\n",
       "      <td>3</td>\n",
       "    </tr>\n",
       "    <tr>\n",
       "      <th>4</th>\n",
       "      <td>0.0</td>\n",
       "      <td>0.0</td>\n",
       "      <td>0.0</td>\n",
       "      <td>1.0</td>\n",
       "      <td>11.0</td>\n",
       "      <td>0.0</td>\n",
       "      <td>0.0</td>\n",
       "      <td>0.0</td>\n",
       "      <td>0.0</td>\n",
       "      <td>0.0</td>\n",
       "      <td>...</td>\n",
       "      <td>0.0</td>\n",
       "      <td>0.0</td>\n",
       "      <td>0.0</td>\n",
       "      <td>0.0</td>\n",
       "      <td>2.0</td>\n",
       "      <td>16.0</td>\n",
       "      <td>4.0</td>\n",
       "      <td>0.0</td>\n",
       "      <td>0.0</td>\n",
       "      <td>4</td>\n",
       "    </tr>\n",
       "    <tr>\n",
       "      <th>...</th>\n",
       "      <td>...</td>\n",
       "      <td>...</td>\n",
       "      <td>...</td>\n",
       "      <td>...</td>\n",
       "      <td>...</td>\n",
       "      <td>...</td>\n",
       "      <td>...</td>\n",
       "      <td>...</td>\n",
       "      <td>...</td>\n",
       "      <td>...</td>\n",
       "      <td>...</td>\n",
       "      <td>...</td>\n",
       "      <td>...</td>\n",
       "      <td>...</td>\n",
       "      <td>...</td>\n",
       "      <td>...</td>\n",
       "      <td>...</td>\n",
       "      <td>...</td>\n",
       "      <td>...</td>\n",
       "      <td>...</td>\n",
       "      <td>...</td>\n",
       "    </tr>\n",
       "    <tr>\n",
       "      <th>1792</th>\n",
       "      <td>0.0</td>\n",
       "      <td>0.0</td>\n",
       "      <td>4.0</td>\n",
       "      <td>10.0</td>\n",
       "      <td>13.0</td>\n",
       "      <td>6.0</td>\n",
       "      <td>0.0</td>\n",
       "      <td>0.0</td>\n",
       "      <td>0.0</td>\n",
       "      <td>1.0</td>\n",
       "      <td>...</td>\n",
       "      <td>0.0</td>\n",
       "      <td>0.0</td>\n",
       "      <td>0.0</td>\n",
       "      <td>2.0</td>\n",
       "      <td>14.0</td>\n",
       "      <td>15.0</td>\n",
       "      <td>9.0</td>\n",
       "      <td>0.0</td>\n",
       "      <td>0.0</td>\n",
       "      <td>9</td>\n",
       "    </tr>\n",
       "    <tr>\n",
       "      <th>1793</th>\n",
       "      <td>0.0</td>\n",
       "      <td>0.0</td>\n",
       "      <td>6.0</td>\n",
       "      <td>16.0</td>\n",
       "      <td>13.0</td>\n",
       "      <td>11.0</td>\n",
       "      <td>1.0</td>\n",
       "      <td>0.0</td>\n",
       "      <td>0.0</td>\n",
       "      <td>0.0</td>\n",
       "      <td>...</td>\n",
       "      <td>0.0</td>\n",
       "      <td>0.0</td>\n",
       "      <td>0.0</td>\n",
       "      <td>6.0</td>\n",
       "      <td>16.0</td>\n",
       "      <td>14.0</td>\n",
       "      <td>6.0</td>\n",
       "      <td>0.0</td>\n",
       "      <td>0.0</td>\n",
       "      <td>0</td>\n",
       "    </tr>\n",
       "    <tr>\n",
       "      <th>1794</th>\n",
       "      <td>0.0</td>\n",
       "      <td>0.0</td>\n",
       "      <td>1.0</td>\n",
       "      <td>11.0</td>\n",
       "      <td>15.0</td>\n",
       "      <td>1.0</td>\n",
       "      <td>0.0</td>\n",
       "      <td>0.0</td>\n",
       "      <td>0.0</td>\n",
       "      <td>0.0</td>\n",
       "      <td>...</td>\n",
       "      <td>0.0</td>\n",
       "      <td>0.0</td>\n",
       "      <td>0.0</td>\n",
       "      <td>2.0</td>\n",
       "      <td>9.0</td>\n",
       "      <td>13.0</td>\n",
       "      <td>6.0</td>\n",
       "      <td>0.0</td>\n",
       "      <td>0.0</td>\n",
       "      <td>8</td>\n",
       "    </tr>\n",
       "    <tr>\n",
       "      <th>1795</th>\n",
       "      <td>0.0</td>\n",
       "      <td>0.0</td>\n",
       "      <td>2.0</td>\n",
       "      <td>10.0</td>\n",
       "      <td>7.0</td>\n",
       "      <td>0.0</td>\n",
       "      <td>0.0</td>\n",
       "      <td>0.0</td>\n",
       "      <td>0.0</td>\n",
       "      <td>0.0</td>\n",
       "      <td>...</td>\n",
       "      <td>0.0</td>\n",
       "      <td>0.0</td>\n",
       "      <td>0.0</td>\n",
       "      <td>5.0</td>\n",
       "      <td>12.0</td>\n",
       "      <td>16.0</td>\n",
       "      <td>12.0</td>\n",
       "      <td>0.0</td>\n",
       "      <td>0.0</td>\n",
       "      <td>9</td>\n",
       "    </tr>\n",
       "    <tr>\n",
       "      <th>1796</th>\n",
       "      <td>0.0</td>\n",
       "      <td>0.0</td>\n",
       "      <td>10.0</td>\n",
       "      <td>14.0</td>\n",
       "      <td>8.0</td>\n",
       "      <td>1.0</td>\n",
       "      <td>0.0</td>\n",
       "      <td>0.0</td>\n",
       "      <td>0.0</td>\n",
       "      <td>2.0</td>\n",
       "      <td>...</td>\n",
       "      <td>0.0</td>\n",
       "      <td>0.0</td>\n",
       "      <td>1.0</td>\n",
       "      <td>8.0</td>\n",
       "      <td>12.0</td>\n",
       "      <td>14.0</td>\n",
       "      <td>12.0</td>\n",
       "      <td>1.0</td>\n",
       "      <td>0.0</td>\n",
       "      <td>8</td>\n",
       "    </tr>\n",
       "  </tbody>\n",
       "</table>\n",
       "<p>1797 rows × 65 columns</p>\n",
       "</div>"
      ],
      "text/plain": [
       "        0    1     2     3     4     5    6    7    8    9  ...   55   56  \\\n",
       "0     0.0  0.0   5.0  13.0   9.0   1.0  0.0  0.0  0.0  0.0  ...  0.0  0.0   \n",
       "1     0.0  0.0   0.0  12.0  13.0   5.0  0.0  0.0  0.0  0.0  ...  0.0  0.0   \n",
       "2     0.0  0.0   0.0   4.0  15.0  12.0  0.0  0.0  0.0  0.0  ...  0.0  0.0   \n",
       "3     0.0  0.0   7.0  15.0  13.0   1.0  0.0  0.0  0.0  8.0  ...  0.0  0.0   \n",
       "4     0.0  0.0   0.0   1.0  11.0   0.0  0.0  0.0  0.0  0.0  ...  0.0  0.0   \n",
       "...   ...  ...   ...   ...   ...   ...  ...  ...  ...  ...  ...  ...  ...   \n",
       "1792  0.0  0.0   4.0  10.0  13.0   6.0  0.0  0.0  0.0  1.0  ...  0.0  0.0   \n",
       "1793  0.0  0.0   6.0  16.0  13.0  11.0  1.0  0.0  0.0  0.0  ...  0.0  0.0   \n",
       "1794  0.0  0.0   1.0  11.0  15.0   1.0  0.0  0.0  0.0  0.0  ...  0.0  0.0   \n",
       "1795  0.0  0.0   2.0  10.0   7.0   0.0  0.0  0.0  0.0  0.0  ...  0.0  0.0   \n",
       "1796  0.0  0.0  10.0  14.0   8.0   1.0  0.0  0.0  0.0  2.0  ...  0.0  0.0   \n",
       "\n",
       "       57   58    59    60    61   62   63  target  \n",
       "0     0.0  6.0  13.0  10.0   0.0  0.0  0.0       0  \n",
       "1     0.0  0.0  11.0  16.0  10.0  0.0  0.0       1  \n",
       "2     0.0  0.0   3.0  11.0  16.0  9.0  0.0       2  \n",
       "3     0.0  7.0  13.0  13.0   9.0  0.0  0.0       3  \n",
       "4     0.0  0.0   2.0  16.0   4.0  0.0  0.0       4  \n",
       "...   ...  ...   ...   ...   ...  ...  ...     ...  \n",
       "1792  0.0  2.0  14.0  15.0   9.0  0.0  0.0       9  \n",
       "1793  0.0  6.0  16.0  14.0   6.0  0.0  0.0       0  \n",
       "1794  0.0  2.0   9.0  13.0   6.0  0.0  0.0       8  \n",
       "1795  0.0  5.0  12.0  16.0  12.0  0.0  0.0       9  \n",
       "1796  1.0  8.0  12.0  14.0  12.0  1.0  0.0       8  \n",
       "\n",
       "[1797 rows x 65 columns]"
      ]
     },
     "execution_count": 1,
     "metadata": {},
     "output_type": "execute_result"
    }
   ],
   "source": [
    "from ClustersFeatures import *\n",
    "from sklearn.datasets import load_digits\n",
    "import pandas as pd\n",
    "digits = load_digits()\n",
    "pd_df=pd.DataFrame(digits.data)\n",
    "pd_df['target'] = digits.target\n",
    "pd_df\n"
   ]
  },
  {
   "cell_type": "code",
   "execution_count": 2,
   "id": "0fe9bb7a",
   "metadata": {},
   "outputs": [],
   "source": [
    "CC=ClustersCharacteristics(pd_df, label_target=\"target\")"
   ]
  },
  {
   "cell_type": "code",
   "execution_count": 6,
   "id": "c852590b",
   "metadata": {},
   "outputs": [
    {
     "data": {
      "text/plain": [
       "Cluster 0 Density    188.572478\n",
       "Cluster 1 Density    223.976083\n",
       "Cluster 2 Density    178.581384\n",
       "Cluster 3 Density    185.070417\n",
       "Cluster 4 Density    185.974654\n",
       "Cluster 5 Density    182.429544\n",
       "Cluster 6 Density    193.111743\n",
       "Cluster 7 Density    182.975663\n",
       "Cluster 8 Density    175.319104\n",
       "Cluster 9 Density    181.441679\n",
       "target              8070.000000\n",
       "dtype: float64"
      ]
     },
     "execution_count": 6,
     "metadata": {},
     "output_type": "execute_result"
    }
   ],
   "source": [
    "CC.density_for_each_observation(\"intra\").sum()"
   ]
  },
  {
   "cell_type": "code",
   "execution_count": 4,
   "id": "c21498d9",
   "metadata": {},
   "outputs": [
    {
     "data": {
      "text/html": [
       "<div>\n",
       "<style scoped>\n",
       "    .dataframe tbody tr th:only-of-type {\n",
       "        vertical-align: middle;\n",
       "    }\n",
       "\n",
       "    .dataframe tbody tr th {\n",
       "        vertical-align: top;\n",
       "    }\n",
       "\n",
       "    .dataframe thead th {\n",
       "        text-align: right;\n",
       "    }\n",
       "</style>\n",
       "<table border=\"1\" class=\"dataframe\">\n",
       "  <thead>\n",
       "    <tr style=\"text-align: right;\">\n",
       "      <th></th>\n",
       "      <th>Cluster 0 Density</th>\n",
       "      <th>Cluster 1 Density</th>\n",
       "      <th>Cluster 2 Density</th>\n",
       "      <th>Cluster 3 Density</th>\n",
       "      <th>Cluster 4 Density</th>\n",
       "      <th>Cluster 5 Density</th>\n",
       "      <th>Cluster 6 Density</th>\n",
       "      <th>Cluster 7 Density</th>\n",
       "      <th>Cluster 8 Density</th>\n",
       "      <th>Cluster 9 Density</th>\n",
       "    </tr>\n",
       "  </thead>\n",
       "  <tbody>\n",
       "    <tr>\n",
       "      <th>Cluster 0 Density</th>\n",
       "      <td>188.572393</td>\n",
       "      <td>0.000000</td>\n",
       "      <td>0.000000</td>\n",
       "      <td>0.000001</td>\n",
       "      <td>0.000003</td>\n",
       "      <td>0.000002</td>\n",
       "      <td>0.000046</td>\n",
       "      <td>0.000000</td>\n",
       "      <td>0.000001</td>\n",
       "      <td>0.000031</td>\n",
       "    </tr>\n",
       "    <tr>\n",
       "      <th>Cluster 1 Density</th>\n",
       "      <td>0.000000</td>\n",
       "      <td>223.949750</td>\n",
       "      <td>0.000341</td>\n",
       "      <td>0.000002</td>\n",
       "      <td>0.000058</td>\n",
       "      <td>0.000004</td>\n",
       "      <td>0.002072</td>\n",
       "      <td>0.000002</td>\n",
       "      <td>0.023703</td>\n",
       "      <td>0.000151</td>\n",
       "    </tr>\n",
       "    <tr>\n",
       "      <th>Cluster 2 Density</th>\n",
       "      <td>0.000000</td>\n",
       "      <td>0.000341</td>\n",
       "      <td>178.580847</td>\n",
       "      <td>0.000049</td>\n",
       "      <td>0.000000</td>\n",
       "      <td>0.000000</td>\n",
       "      <td>0.000000</td>\n",
       "      <td>0.000005</td>\n",
       "      <td>0.000141</td>\n",
       "      <td>0.000000</td>\n",
       "    </tr>\n",
       "    <tr>\n",
       "      <th>Cluster 3 Density</th>\n",
       "      <td>0.000001</td>\n",
       "      <td>0.000002</td>\n",
       "      <td>0.000049</td>\n",
       "      <td>185.064322</td>\n",
       "      <td>0.000000</td>\n",
       "      <td>0.000034</td>\n",
       "      <td>0.000000</td>\n",
       "      <td>0.000023</td>\n",
       "      <td>0.001066</td>\n",
       "      <td>0.004920</td>\n",
       "    </tr>\n",
       "    <tr>\n",
       "      <th>Cluster 4 Density</th>\n",
       "      <td>0.000003</td>\n",
       "      <td>0.000058</td>\n",
       "      <td>0.000000</td>\n",
       "      <td>0.000000</td>\n",
       "      <td>185.974563</td>\n",
       "      <td>0.000016</td>\n",
       "      <td>0.000001</td>\n",
       "      <td>0.000009</td>\n",
       "      <td>0.000000</td>\n",
       "      <td>0.000004</td>\n",
       "    </tr>\n",
       "    <tr>\n",
       "      <th>Cluster 5 Density</th>\n",
       "      <td>0.000002</td>\n",
       "      <td>0.000004</td>\n",
       "      <td>0.000000</td>\n",
       "      <td>0.000034</td>\n",
       "      <td>0.000016</td>\n",
       "      <td>182.427201</td>\n",
       "      <td>0.000924</td>\n",
       "      <td>0.000000</td>\n",
       "      <td>0.000005</td>\n",
       "      <td>0.001357</td>\n",
       "    </tr>\n",
       "    <tr>\n",
       "      <th>Cluster 6 Density</th>\n",
       "      <td>0.000046</td>\n",
       "      <td>0.002072</td>\n",
       "      <td>0.000000</td>\n",
       "      <td>0.000000</td>\n",
       "      <td>0.000001</td>\n",
       "      <td>0.000924</td>\n",
       "      <td>193.108651</td>\n",
       "      <td>0.000000</td>\n",
       "      <td>0.000048</td>\n",
       "      <td>0.000000</td>\n",
       "    </tr>\n",
       "    <tr>\n",
       "      <th>Cluster 7 Density</th>\n",
       "      <td>0.000000</td>\n",
       "      <td>0.000002</td>\n",
       "      <td>0.000005</td>\n",
       "      <td>0.000023</td>\n",
       "      <td>0.000009</td>\n",
       "      <td>0.000000</td>\n",
       "      <td>0.000000</td>\n",
       "      <td>182.975600</td>\n",
       "      <td>0.000008</td>\n",
       "      <td>0.000017</td>\n",
       "    </tr>\n",
       "    <tr>\n",
       "      <th>Cluster 8 Density</th>\n",
       "      <td>0.000001</td>\n",
       "      <td>0.023703</td>\n",
       "      <td>0.000141</td>\n",
       "      <td>0.001066</td>\n",
       "      <td>0.000000</td>\n",
       "      <td>0.000005</td>\n",
       "      <td>0.000048</td>\n",
       "      <td>0.000008</td>\n",
       "      <td>175.293550</td>\n",
       "      <td>0.000581</td>\n",
       "    </tr>\n",
       "    <tr>\n",
       "      <th>Cluster 9 Density</th>\n",
       "      <td>0.000031</td>\n",
       "      <td>0.000151</td>\n",
       "      <td>0.000000</td>\n",
       "      <td>0.004920</td>\n",
       "      <td>0.000004</td>\n",
       "      <td>0.001357</td>\n",
       "      <td>0.000000</td>\n",
       "      <td>0.000017</td>\n",
       "      <td>0.000581</td>\n",
       "      <td>181.434618</td>\n",
       "    </tr>\n",
       "  </tbody>\n",
       "</table>\n",
       "</div>"
      ],
      "text/plain": [
       "                   Cluster 0 Density  Cluster 1 Density  Cluster 2 Density  \\\n",
       "Cluster 0 Density         188.572393           0.000000           0.000000   \n",
       "Cluster 1 Density           0.000000         223.949750           0.000341   \n",
       "Cluster 2 Density           0.000000           0.000341         178.580847   \n",
       "Cluster 3 Density           0.000001           0.000002           0.000049   \n",
       "Cluster 4 Density           0.000003           0.000058           0.000000   \n",
       "Cluster 5 Density           0.000002           0.000004           0.000000   \n",
       "Cluster 6 Density           0.000046           0.002072           0.000000   \n",
       "Cluster 7 Density           0.000000           0.000002           0.000005   \n",
       "Cluster 8 Density           0.000001           0.023703           0.000141   \n",
       "Cluster 9 Density           0.000031           0.000151           0.000000   \n",
       "\n",
       "                   Cluster 3 Density  Cluster 4 Density  Cluster 5 Density  \\\n",
       "Cluster 0 Density           0.000001           0.000003           0.000002   \n",
       "Cluster 1 Density           0.000002           0.000058           0.000004   \n",
       "Cluster 2 Density           0.000049           0.000000           0.000000   \n",
       "Cluster 3 Density         185.064322           0.000000           0.000034   \n",
       "Cluster 4 Density           0.000000         185.974563           0.000016   \n",
       "Cluster 5 Density           0.000034           0.000016         182.427201   \n",
       "Cluster 6 Density           0.000000           0.000001           0.000924   \n",
       "Cluster 7 Density           0.000023           0.000009           0.000000   \n",
       "Cluster 8 Density           0.001066           0.000000           0.000005   \n",
       "Cluster 9 Density           0.004920           0.000004           0.001357   \n",
       "\n",
       "                   Cluster 6 Density  Cluster 7 Density  Cluster 8 Density  \\\n",
       "Cluster 0 Density           0.000046           0.000000           0.000001   \n",
       "Cluster 1 Density           0.002072           0.000002           0.023703   \n",
       "Cluster 2 Density           0.000000           0.000005           0.000141   \n",
       "Cluster 3 Density           0.000000           0.000023           0.001066   \n",
       "Cluster 4 Density           0.000001           0.000009           0.000000   \n",
       "Cluster 5 Density           0.000924           0.000000           0.000005   \n",
       "Cluster 6 Density         193.108651           0.000000           0.000048   \n",
       "Cluster 7 Density           0.000000         182.975600           0.000008   \n",
       "Cluster 8 Density           0.000048           0.000008         175.293550   \n",
       "Cluster 9 Density           0.000000           0.000017           0.000581   \n",
       "\n",
       "                   Cluster 9 Density  \n",
       "Cluster 0 Density           0.000031  \n",
       "Cluster 1 Density           0.000151  \n",
       "Cluster 2 Density           0.000000  \n",
       "Cluster 3 Density           0.004920  \n",
       "Cluster 4 Density           0.000004  \n",
       "Cluster 5 Density           0.001357  \n",
       "Cluster 6 Density           0.000000  \n",
       "Cluster 7 Density           0.000017  \n",
       "Cluster 8 Density           0.000581  \n",
       "Cluster 9 Density         181.434618  "
      ]
     },
     "execution_count": 4,
     "metadata": {},
     "output_type": "execute_result"
    }
   ],
   "source": [
    "CC.density_for_each_observation(\"inter\")"
   ]
  },
  {
   "cell_type": "code",
   "execution_count": 5,
   "id": "09eda645",
   "metadata": {},
   "outputs": [
    {
     "ename": "TypeError",
     "evalue": "'tuple' object cannot be interpreted as an integer",
     "output_type": "error",
     "traceback": [
      "\u001b[0;31m---------------------------------------------------------------------------\u001b[0m",
      "\u001b[0;31mTypeError\u001b[0m                                 Traceback (most recent call last)",
      "\u001b[0;32m/tmp/ipykernel_29368/1681795524.py\u001b[0m in \u001b[0;36m<module>\u001b[0;34m\u001b[0m\n\u001b[0;32m----> 1\u001b[0;31m \u001b[0mnp\u001b[0m\u001b[0;34m.\u001b[0m\u001b[0meye\u001b[0m\u001b[0;34m(\u001b[0m\u001b[0mnp\u001b[0m\u001b[0;34m.\u001b[0m\u001b[0mzeros\u001b[0m\u001b[0;34m(\u001b[0m\u001b[0;34m(\u001b[0m\u001b[0;36m3\u001b[0m\u001b[0;34m,\u001b[0m\u001b[0;36m3\u001b[0m\u001b[0;34m)\u001b[0m\u001b[0;34m)\u001b[0m\u001b[0;34m.\u001b[0m\u001b[0mshape\u001b[0m\u001b[0;34m)\u001b[0m\u001b[0;34m\u001b[0m\u001b[0;34m\u001b[0m\u001b[0m\n\u001b[0m",
      "\u001b[0;32m~/Project/Clusters-Features-GitLab/venv/lib/python3.9/site-packages/numpy/lib/twodim_base.py\u001b[0m in \u001b[0;36meye\u001b[0;34m(N, M, k, dtype, order, like)\u001b[0m\n\u001b[1;32m    212\u001b[0m     \u001b[0;32mif\u001b[0m \u001b[0mM\u001b[0m \u001b[0;32mis\u001b[0m \u001b[0;32mNone\u001b[0m\u001b[0;34m:\u001b[0m\u001b[0;34m\u001b[0m\u001b[0;34m\u001b[0m\u001b[0m\n\u001b[1;32m    213\u001b[0m         \u001b[0mM\u001b[0m \u001b[0;34m=\u001b[0m \u001b[0mN\u001b[0m\u001b[0;34m\u001b[0m\u001b[0;34m\u001b[0m\u001b[0m\n\u001b[0;32m--> 214\u001b[0;31m     \u001b[0mm\u001b[0m \u001b[0;34m=\u001b[0m \u001b[0mzeros\u001b[0m\u001b[0;34m(\u001b[0m\u001b[0;34m(\u001b[0m\u001b[0mN\u001b[0m\u001b[0;34m,\u001b[0m \u001b[0mM\u001b[0m\u001b[0;34m)\u001b[0m\u001b[0;34m,\u001b[0m \u001b[0mdtype\u001b[0m\u001b[0;34m=\u001b[0m\u001b[0mdtype\u001b[0m\u001b[0;34m,\u001b[0m \u001b[0morder\u001b[0m\u001b[0;34m=\u001b[0m\u001b[0morder\u001b[0m\u001b[0;34m)\u001b[0m\u001b[0;34m\u001b[0m\u001b[0;34m\u001b[0m\u001b[0m\n\u001b[0m\u001b[1;32m    215\u001b[0m     \u001b[0;32mif\u001b[0m \u001b[0mk\u001b[0m \u001b[0;34m>=\u001b[0m \u001b[0mM\u001b[0m\u001b[0;34m:\u001b[0m\u001b[0;34m\u001b[0m\u001b[0;34m\u001b[0m\u001b[0m\n\u001b[1;32m    216\u001b[0m         \u001b[0;32mreturn\u001b[0m \u001b[0mm\u001b[0m\u001b[0;34m\u001b[0m\u001b[0;34m\u001b[0m\u001b[0m\n",
      "\u001b[0;31mTypeError\u001b[0m: 'tuple' object cannot be interpreted as an integer"
     ]
    }
   ],
   "source": [
    "np.eye(np.zeros((3,3)).shape)"
   ]
  },
  {
   "cell_type": "code",
   "execution_count": null,
   "id": "8b71ed3d",
   "metadata": {},
   "outputs": [],
   "source": [
    "from sklearn.preprocessing import StandardScaler\n",
    "from scipy import spatial\n",
    "data = CC.data_features\n",
    "scaler = StandardScaler()\n",
    "data_scaled = scaler.fit_transform(data)\n",
    "cluster1=0\n",
    "cluster2=1\n",
    "distance_scaled = pd.DataFrame(spatial.distance_matrix(data_scaled, data_scaled), index=CC.data_features.index,\n",
    "                                   columns=CC.data_features.index)\n",
    "\n",
    "np.exp(-1 / 2 * ((distance_scaled.loc[CC.data_clusters[cluster1].index, CC.data_clusters[cluster2].index]) ** 2)).sum(axis=0).sum()"
   ]
  },
  {
   "cell_type": "code",
   "execution_count": null,
   "id": "e1c349a5",
   "metadata": {},
   "outputs": [],
   "source": [
    "distance_scaled.loc[CC.data_clusters[cluster1].index, CC.data_clusters[cluster2].index]"
   ]
  },
  {
   "cell_type": "code",
   "execution_count": null,
   "id": "62c02fba",
   "metadata": {},
   "outputs": [],
   "source": [
    "CC.num_observation_for_specific_cluster[0]"
   ]
  },
  {
   "cell_type": "code",
   "execution_count": null,
   "id": "e559e2e5",
   "metadata": {},
   "outputs": [],
   "source": [
    "qsdqsd"
   ]
  },
  {
   "cell_type": "code",
   "execution_count": null,
   "id": "d639029d",
   "metadata": {},
   "outputs": [],
   "source": [
    "    def density_for_each_observation(self, method, **args):\n",
    "        try:\n",
    "            clusters=args['clusters']\n",
    "        except KeyError:\n",
    "            clusters=self.labels_clusters\n",
    "\n",
    "        from sklearn.preprocessing import StandardScaler\n",
    "        from scipy import spatial\n",
    "        data = self.data_features\n",
    "        scaler = StandardScaler()\n",
    "        data_scaled = scaler.fit_transform(data)\n",
    "\n",
    "        distance_scaled = pd.DataFrame(spatial.distance_matrix(data_scaled, data_scaled), index=self.data_features.index,\n",
    "                                   columns=self.data_features.index)\n",
    "        if method == \"total\":\n",
    "            Output = pd.DataFrame(index=self.data_features.index)\n",
    "            Output['Total Density']=np.exp(-1/2*((distance_scaled.loc[:,:])**2)).sum(axis=0)\n",
    "            Output['target'] = self.data_target\n",
    "        elif method == \"intra\":\n",
    "            Output = pd.DataFrame(index=self.data_features.index)\n",
    "            for cluster in clusters:\n",
    "                Output['Cluster ' + str(cluster) + ' Density'] = np.exp(-1 / 2 * ((distance_scaled.loc[self.data_clusters[cluster].index, :]) ** 2)).sum(axis=0)\n",
    "            Output['target'] = self.data_target\n",
    "\n",
    "        elif method == \"inter\":\n",
    "            Output=pd.DataFrame(index=['Total cluster density C:' + str(cluster1) for cluster1 in self.labels_clusters], columns=['Relative cluster density C:' + str(cluster2) for cluster2 in self.labels_clusters])\n",
    "            for i,cluster1 in enumerate(clusters):\n",
    "                for cluster2 in clusters[i+1:]:\n",
    "                    Output.loc['Total cluster density C:' + str(cluster1), 'Relative cluster density C:' + str(cluster2)] =\\\n",
    "                        np.exp(-1 / 2 * ((distance_scaled.loc[self.data_clusters[cluster1].index, self.data_clusters[cluster2].index]) ** 2)).sum(axis=0).sum()\n",
    "            Output2=Output.T.copy()\n",
    "            Output2[np.eye(self.num_clusters)>0] = 0\n",
    "            Output = Output + Output2.values\n",
    "        return Output"
   ]
  },
  {
   "cell_type": "code",
   "execution_count": null,
   "id": "bcde65bb",
   "metadata": {},
   "outputs": [],
   "source": [
    "CC.density_estimation_for_each_observation()"
   ]
  },
  {
   "cell_type": "code",
   "execution_count": null,
   "id": "6b3fb0ff",
   "metadata": {},
   "outputs": [],
   "source": [
    "CC.graph_reduction_density_2D(\"PCA\",99,\"contour\")"
   ]
  },
  {
   "cell_type": "code",
   "execution_count": null,
   "id": "03e0b030",
   "metadata": {},
   "outputs": [],
   "source": [
    "s=CC.density_projection_2D(\"PCA\",70)"
   ]
  },
  {
   "cell_type": "code",
   "execution_count": null,
   "id": "e4e90424",
   "metadata": {},
   "outputs": [],
   "source": [
    "Zgrid=s['Z-Grid']"
   ]
  },
  {
   "cell_type": "code",
   "execution_count": null,
   "id": "203d8308",
   "metadata": {},
   "outputs": [],
   "source": [
    "np.percentile(Zgrid.values,70)"
   ]
  },
  {
   "cell_type": "code",
   "execution_count": null,
   "id": "7aae7fae",
   "metadata": {},
   "outputs": [],
   "source": [
    "Z=Zgrid.values\n",
    "A=np.zeros(Z.shape)"
   ]
  },
  {
   "cell_type": "code",
   "execution_count": null,
   "id": "f5e92824",
   "metadata": {},
   "outputs": [],
   "source": [
    "Z[Z<np.percentile(Z,75)]=0"
   ]
  },
  {
   "cell_type": "code",
   "execution_count": null,
   "id": "92eaf7e6",
   "metadata": {},
   "outputs": [],
   "source": []
  },
  {
   "cell_type": "code",
   "execution_count": null,
   "id": "2c7eb5bd",
   "metadata": {},
   "outputs": [],
   "source": []
  },
  {
   "cell_type": "code",
   "execution_count": null,
   "id": "b6740f70",
   "metadata": {},
   "outputs": [],
   "source": [
    "qsd"
   ]
  },
  {
   "cell_type": "code",
   "execution_count": null,
   "id": "37b0791d",
   "metadata": {},
   "outputs": [],
   "source": [
    "np.exp(-1/2*((CC.data_features-X)**2).sum(axis=1)).sum()/(2*np.pi)**(CC.data_dimension/2)/(CC.data_dimension)**(1/2)"
   ]
  },
  {
   "cell_type": "code",
   "execution_count": null,
   "id": "537bf042",
   "metadata": {},
   "outputs": [],
   "source": [
    "from sklearn.preprocessing import StandardScaler\n",
    "\n"
   ]
  },
  {
   "cell_type": "code",
   "execution_count": null,
   "id": "76ba161d",
   "metadata": {},
   "outputs": [],
   "source": [
    "df=CC.utils_PCA(3)\n",
    "df['target']=CC.data_target\n",
    "\n",
    "\n",
    "\n",
    "\n",
    "CC=ClustersCharacteristics(pd_df, label_target=\"target\")\n",
    "\n",
    "Result=pd.DataFrame(index=CC.data_target.index, columns=['Density'])\n",
    "for i,X in data_scaled.T.iteritems():\n",
    "    Result.loc[i] = np.exp((-1/2*((data_scaled-X)**2).sum(axis=1))).sum()-1\n"
   ]
  },
  {
   "cell_type": "code",
   "execution_count": null,
   "id": "4cc3313a",
   "metadata": {},
   "outputs": [],
   "source": [
    "dist=pd.DataFrame(spatial.distance_matrix(data_scaled,data_scaled))"
   ]
  },
  {
   "cell_type": "code",
   "execution_count": null,
   "id": "7ee6ba77",
   "metadata": {},
   "outputs": [],
   "source": [
    "Save=np.exp(-1/2*((dist.loc[:,:])**2)).sum(axis=0)-1"
   ]
  },
  {
   "cell_type": "code",
   "execution_count": null,
   "id": "eab8f859",
   "metadata": {},
   "outputs": [],
   "source": [
    "np.exp(-1/2 * (dist.loc[CC.data_clusters[0].index,:])**2).sum()"
   ]
  },
  {
   "cell_type": "code",
   "execution_count": null,
   "id": "22705757",
   "metadata": {},
   "outputs": [],
   "source": [
    "pd.DataFrame(np.exp(-1/2*(dist.loc[CC.data_clusters[1].index,CC.data_clusters[2].index]**2)).sum())"
   ]
  },
  {
   "cell_type": "code",
   "execution_count": null,
   "id": "54f110c3",
   "metadata": {},
   "outputs": [],
   "source": [
    "Result['Density']"
   ]
  },
  {
   "cell_type": "code",
   "execution_count": null,
   "id": "58893410",
   "metadata": {},
   "outputs": [],
   "source": [
    "Save"
   ]
  },
  {
   "cell_type": "code",
   "execution_count": null,
   "id": "9ef9d6e4",
   "metadata": {},
   "outputs": [],
   "source": [
    "Result['target']=CC.data_target"
   ]
  },
  {
   "cell_type": "code",
   "execution_count": null,
   "id": "ba71ac45",
   "metadata": {},
   "outputs": [],
   "source": [
    "Result"
   ]
  },
  {
   "cell_type": "code",
   "execution_count": null,
   "id": "b6f54edd",
   "metadata": {},
   "outputs": [],
   "source": [
    "[str(cluster) + str(Result[Result['target']==cluster]['Density'].sum()) for cluster in CC.labels_clusters]"
   ]
  },
  {
   "cell_type": "code",
   "execution_count": null,
   "id": "c832269a",
   "metadata": {},
   "outputs": [],
   "source": [
    "Result[Result['target']==1].sum()"
   ]
  },
  {
   "cell_type": "code",
   "execution_count": null,
   "id": "271b3ab5",
   "metadata": {},
   "outputs": [],
   "source": [
    "Result[Result['target']==6].sum()"
   ]
  },
  {
   "cell_type": "code",
   "execution_count": null,
   "id": "f7c9e85d",
   "metadata": {},
   "outputs": [],
   "source": [
    "qsdqsd"
   ]
  },
  {
   "cell_type": "code",
   "execution_count": null,
   "id": "ca4dcf36",
   "metadata": {},
   "outputs": [],
   "source": [
    "CC.graph_PCA_3D()"
   ]
  },
  {
   "cell_type": "code",
   "execution_count": null,
   "id": "68a314ff",
   "metadata": {},
   "outputs": [],
   "source": [
    "CC.data_frame"
   ]
  },
  {
   "cell_type": "code",
   "execution_count": null,
   "id": "434a9581",
   "metadata": {},
   "outputs": [],
   "source": [
    "Centroid=CC.data_features.iloc[1587]\n",
    "X=CC.data_features.iloc[1586]\n",
    "from numpy import inf\n",
    "def MultivariateGaussian(X, Centroid):\n",
    "    m=len(Centroid)\n",
    "    Sigma=CC.data_features.var().mean()*np.eye(m)\n",
    "    return np.exp(-1/2 * (X-Centroid).T.dot((Sigma).dot(X-Centroid)))\n"
   ]
  },
  {
   "cell_type": "code",
   "execution_count": null,
   "id": "2a5d5f43",
   "metadata": {},
   "outputs": [],
   "source": [
    "MultivariateGaussian(X,Centroid)"
   ]
  },
  {
   "cell_type": "code",
   "execution_count": null,
   "id": "6d390687",
   "metadata": {},
   "outputs": [],
   "source": [
    "Sigma=CC.data_features.var().mean()*np.eye(CC.data_dimension)"
   ]
  },
  {
   "cell_type": "code",
   "execution_count": null,
   "id": "fff4cb5b",
   "metadata": {},
   "outputs": [],
   "source": [
    "CC.utils_ts_filtering(\"HP\", period=12, col=CC.data_features.columns[5])"
   ]
  },
  {
   "cell_type": "code",
   "execution_count": null,
   "id": "5a5a65d3",
   "metadata": {},
   "outputs": [],
   "source": [
    "qsd"
   ]
  },
  {
   "cell_type": "code",
   "execution_count": null,
   "id": "5d22b2a1",
   "metadata": {},
   "outputs": [],
   "source": [
    "CC.graph_reduction_density_3D(97)"
   ]
  },
  {
   "cell_type": "code",
   "execution_count": null,
   "id": "62537aed",
   "metadata": {},
   "outputs": [],
   "source": [
    "CC.graph_reduction_density_3D(99, cluster=[1,3])"
   ]
  },
  {
   "cell_type": "code",
   "execution_count": null,
   "id": "4a92b7d8",
   "metadata": {},
   "outputs": [],
   "source": [
    "CC.graph_reduction_density_2D('PCA',99, \"contour\")"
   ]
  },
  {
   "cell_type": "code",
   "execution_count": null,
   "id": "80c58e45",
   "metadata": {},
   "outputs": [],
   "source": [
    "CC.graph_reduction_density_2D('PCA',99, \"interactive\")"
   ]
  },
  {
   "cell_type": "code",
   "execution_count": null,
   "id": "db091cb6",
   "metadata": {},
   "outputs": [],
   "source": [
    "img_png = CC.density_projection_2D_generate_png(\"PCA\", 97, show=True)"
   ]
  },
  {
   "cell_type": "code",
   "execution_count": null,
   "id": "e9979359",
   "metadata": {},
   "outputs": [],
   "source": [
    "CC.graph_confusion_hypersphere_evolution_for_linspace_radius(50,True)"
   ]
  },
  {
   "cell_type": "code",
   "execution_count": null,
   "id": "4206b8ed",
   "metadata": {},
   "outputs": [],
   "source": [
    "CC.clusters_info(scaler=\"min_max\")"
   ]
  },
  {
   "cell_type": "code",
   "execution_count": null,
   "id": "8796846d",
   "metadata": {},
   "outputs": [],
   "source": [
    "CC.general_info()"
   ]
  },
  {
   "cell_type": "code",
   "execution_count": null,
   "id": "39da3102",
   "metadata": {},
   "outputs": [],
   "source": [
    "CC.utils_ClustersRank()"
   ]
  },
  {
   "cell_type": "code",
   "execution_count": null,
   "id": "f0df022c",
   "metadata": {},
   "outputs": [],
   "source": [
    "CC."
   ]
  }
 ],
 "metadata": {
  "kernelspec": {
   "display_name": "Python 3 (ipykernel)",
   "language": "python",
   "name": "python3"
  },
  "language_info": {
   "codemirror_mode": {
    "name": "ipython",
    "version": 3
   },
   "file_extension": ".py",
   "mimetype": "text/x-python",
   "name": "python",
   "nbconvert_exporter": "python",
   "pygments_lexer": "ipython3",
   "version": "3.9.5"
  }
 },
 "nbformat": 4,
 "nbformat_minor": 5
}
